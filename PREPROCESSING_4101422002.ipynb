{
  "cells": [
    {
      "cell_type": "code",
      "execution_count": 75,
      "id": "9b0150ee",
      "metadata": {
        "scrolled": true,
        "id": "9b0150ee"
      },
      "outputs": [],
      "source": [
        "import pandas as pd\n",
        "import numpy as np\n",
        "import matplotlib.pyplot as plt"
      ]
    },
    {
      "cell_type": "code",
      "execution_count": 76,
      "id": "4e723679",
      "metadata": {
        "scrolled": false,
        "id": "4e723679"
      },
      "outputs": [],
      "source": [
        "#pemanggilan data\n",
        "data = pd.read_csv(\"produk_elektronik.csv\")"
      ]
    },
    {
      "cell_type": "code",
      "execution_count": 77,
      "id": "81e45b78",
      "metadata": {
        "colab": {
          "base_uri": "https://localhost:8080/",
          "height": 206
        },
        "id": "81e45b78",
        "outputId": "353fe7b4-a6fd-4a05-cc9c-1d2223466bc0"
      },
      "outputs": [
        {
          "output_type": "execute_result",
          "data": {
            "text/plain": [
              "   produk_id nama_produk    kategori  harga  rating  jumlah_ulasan  \\\n",
              "0          1    Produk_1  Smartwatch  746.0     4.2          273.0   \n",
              "1          2    Produk_2   Headphone  241.0     3.5          239.0   \n",
              "2          3    Produk_3      Tablet  810.0     3.8          209.0   \n",
              "3          4    Produk_4   Headphone  303.0     3.2           59.0   \n",
              "4          5    Produk_5   Headphone  252.0     3.7           76.0   \n",
              "\n",
              "   negara_asal  \n",
              "0        Japan  \n",
              "1       Canada  \n",
              "2       Canada  \n",
              "3  South Korea  \n",
              "4  South Korea  "
            ],
            "text/html": [
              "\n",
              "  <div id=\"df-4dd06184-580e-4d34-9df4-88ecd9690009\" class=\"colab-df-container\">\n",
              "    <div>\n",
              "<style scoped>\n",
              "    .dataframe tbody tr th:only-of-type {\n",
              "        vertical-align: middle;\n",
              "    }\n",
              "\n",
              "    .dataframe tbody tr th {\n",
              "        vertical-align: top;\n",
              "    }\n",
              "\n",
              "    .dataframe thead th {\n",
              "        text-align: right;\n",
              "    }\n",
              "</style>\n",
              "<table border=\"1\" class=\"dataframe\">\n",
              "  <thead>\n",
              "    <tr style=\"text-align: right;\">\n",
              "      <th></th>\n",
              "      <th>produk_id</th>\n",
              "      <th>nama_produk</th>\n",
              "      <th>kategori</th>\n",
              "      <th>harga</th>\n",
              "      <th>rating</th>\n",
              "      <th>jumlah_ulasan</th>\n",
              "      <th>negara_asal</th>\n",
              "    </tr>\n",
              "  </thead>\n",
              "  <tbody>\n",
              "    <tr>\n",
              "      <th>0</th>\n",
              "      <td>1</td>\n",
              "      <td>Produk_1</td>\n",
              "      <td>Smartwatch</td>\n",
              "      <td>746.0</td>\n",
              "      <td>4.2</td>\n",
              "      <td>273.0</td>\n",
              "      <td>Japan</td>\n",
              "    </tr>\n",
              "    <tr>\n",
              "      <th>1</th>\n",
              "      <td>2</td>\n",
              "      <td>Produk_2</td>\n",
              "      <td>Headphone</td>\n",
              "      <td>241.0</td>\n",
              "      <td>3.5</td>\n",
              "      <td>239.0</td>\n",
              "      <td>Canada</td>\n",
              "    </tr>\n",
              "    <tr>\n",
              "      <th>2</th>\n",
              "      <td>3</td>\n",
              "      <td>Produk_3</td>\n",
              "      <td>Tablet</td>\n",
              "      <td>810.0</td>\n",
              "      <td>3.8</td>\n",
              "      <td>209.0</td>\n",
              "      <td>Canada</td>\n",
              "    </tr>\n",
              "    <tr>\n",
              "      <th>3</th>\n",
              "      <td>4</td>\n",
              "      <td>Produk_4</td>\n",
              "      <td>Headphone</td>\n",
              "      <td>303.0</td>\n",
              "      <td>3.2</td>\n",
              "      <td>59.0</td>\n",
              "      <td>South Korea</td>\n",
              "    </tr>\n",
              "    <tr>\n",
              "      <th>4</th>\n",
              "      <td>5</td>\n",
              "      <td>Produk_5</td>\n",
              "      <td>Headphone</td>\n",
              "      <td>252.0</td>\n",
              "      <td>3.7</td>\n",
              "      <td>76.0</td>\n",
              "      <td>South Korea</td>\n",
              "    </tr>\n",
              "  </tbody>\n",
              "</table>\n",
              "</div>\n",
              "    <div class=\"colab-df-buttons\">\n",
              "\n",
              "  <div class=\"colab-df-container\">\n",
              "    <button class=\"colab-df-convert\" onclick=\"convertToInteractive('df-4dd06184-580e-4d34-9df4-88ecd9690009')\"\n",
              "            title=\"Convert this dataframe to an interactive table.\"\n",
              "            style=\"display:none;\">\n",
              "\n",
              "  <svg xmlns=\"http://www.w3.org/2000/svg\" height=\"24px\" viewBox=\"0 -960 960 960\">\n",
              "    <path d=\"M120-120v-720h720v720H120Zm60-500h600v-160H180v160Zm220 220h160v-160H400v160Zm0 220h160v-160H400v160ZM180-400h160v-160H180v160Zm440 0h160v-160H620v160ZM180-180h160v-160H180v160Zm440 0h160v-160H620v160Z\"/>\n",
              "  </svg>\n",
              "    </button>\n",
              "\n",
              "  <style>\n",
              "    .colab-df-container {\n",
              "      display:flex;\n",
              "      gap: 12px;\n",
              "    }\n",
              "\n",
              "    .colab-df-convert {\n",
              "      background-color: #E8F0FE;\n",
              "      border: none;\n",
              "      border-radius: 50%;\n",
              "      cursor: pointer;\n",
              "      display: none;\n",
              "      fill: #1967D2;\n",
              "      height: 32px;\n",
              "      padding: 0 0 0 0;\n",
              "      width: 32px;\n",
              "    }\n",
              "\n",
              "    .colab-df-convert:hover {\n",
              "      background-color: #E2EBFA;\n",
              "      box-shadow: 0px 1px 2px rgba(60, 64, 67, 0.3), 0px 1px 3px 1px rgba(60, 64, 67, 0.15);\n",
              "      fill: #174EA6;\n",
              "    }\n",
              "\n",
              "    .colab-df-buttons div {\n",
              "      margin-bottom: 4px;\n",
              "    }\n",
              "\n",
              "    [theme=dark] .colab-df-convert {\n",
              "      background-color: #3B4455;\n",
              "      fill: #D2E3FC;\n",
              "    }\n",
              "\n",
              "    [theme=dark] .colab-df-convert:hover {\n",
              "      background-color: #434B5C;\n",
              "      box-shadow: 0px 1px 3px 1px rgba(0, 0, 0, 0.15);\n",
              "      filter: drop-shadow(0px 1px 2px rgba(0, 0, 0, 0.3));\n",
              "      fill: #FFFFFF;\n",
              "    }\n",
              "  </style>\n",
              "\n",
              "    <script>\n",
              "      const buttonEl =\n",
              "        document.querySelector('#df-4dd06184-580e-4d34-9df4-88ecd9690009 button.colab-df-convert');\n",
              "      buttonEl.style.display =\n",
              "        google.colab.kernel.accessAllowed ? 'block' : 'none';\n",
              "\n",
              "      async function convertToInteractive(key) {\n",
              "        const element = document.querySelector('#df-4dd06184-580e-4d34-9df4-88ecd9690009');\n",
              "        const dataTable =\n",
              "          await google.colab.kernel.invokeFunction('convertToInteractive',\n",
              "                                                    [key], {});\n",
              "        if (!dataTable) return;\n",
              "\n",
              "        const docLinkHtml = 'Like what you see? Visit the ' +\n",
              "          '<a target=\"_blank\" href=https://colab.research.google.com/notebooks/data_table.ipynb>data table notebook</a>'\n",
              "          + ' to learn more about interactive tables.';\n",
              "        element.innerHTML = '';\n",
              "        dataTable['output_type'] = 'display_data';\n",
              "        await google.colab.output.renderOutput(dataTable, element);\n",
              "        const docLink = document.createElement('div');\n",
              "        docLink.innerHTML = docLinkHtml;\n",
              "        element.appendChild(docLink);\n",
              "      }\n",
              "    </script>\n",
              "  </div>\n",
              "\n",
              "\n",
              "<div id=\"df-ebc1b8ef-02bf-4510-92f4-c47c9f0241ae\">\n",
              "  <button class=\"colab-df-quickchart\" onclick=\"quickchart('df-ebc1b8ef-02bf-4510-92f4-c47c9f0241ae')\"\n",
              "            title=\"Suggest charts\"\n",
              "            style=\"display:none;\">\n",
              "\n",
              "<svg xmlns=\"http://www.w3.org/2000/svg\" height=\"24px\"viewBox=\"0 0 24 24\"\n",
              "     width=\"24px\">\n",
              "    <g>\n",
              "        <path d=\"M19 3H5c-1.1 0-2 .9-2 2v14c0 1.1.9 2 2 2h14c1.1 0 2-.9 2-2V5c0-1.1-.9-2-2-2zM9 17H7v-7h2v7zm4 0h-2V7h2v10zm4 0h-2v-4h2v4z\"/>\n",
              "    </g>\n",
              "</svg>\n",
              "  </button>\n",
              "\n",
              "<style>\n",
              "  .colab-df-quickchart {\n",
              "      --bg-color: #E8F0FE;\n",
              "      --fill-color: #1967D2;\n",
              "      --hover-bg-color: #E2EBFA;\n",
              "      --hover-fill-color: #174EA6;\n",
              "      --disabled-fill-color: #AAA;\n",
              "      --disabled-bg-color: #DDD;\n",
              "  }\n",
              "\n",
              "  [theme=dark] .colab-df-quickchart {\n",
              "      --bg-color: #3B4455;\n",
              "      --fill-color: #D2E3FC;\n",
              "      --hover-bg-color: #434B5C;\n",
              "      --hover-fill-color: #FFFFFF;\n",
              "      --disabled-bg-color: #3B4455;\n",
              "      --disabled-fill-color: #666;\n",
              "  }\n",
              "\n",
              "  .colab-df-quickchart {\n",
              "    background-color: var(--bg-color);\n",
              "    border: none;\n",
              "    border-radius: 50%;\n",
              "    cursor: pointer;\n",
              "    display: none;\n",
              "    fill: var(--fill-color);\n",
              "    height: 32px;\n",
              "    padding: 0;\n",
              "    width: 32px;\n",
              "  }\n",
              "\n",
              "  .colab-df-quickchart:hover {\n",
              "    background-color: var(--hover-bg-color);\n",
              "    box-shadow: 0 1px 2px rgba(60, 64, 67, 0.3), 0 1px 3px 1px rgba(60, 64, 67, 0.15);\n",
              "    fill: var(--button-hover-fill-color);\n",
              "  }\n",
              "\n",
              "  .colab-df-quickchart-complete:disabled,\n",
              "  .colab-df-quickchart-complete:disabled:hover {\n",
              "    background-color: var(--disabled-bg-color);\n",
              "    fill: var(--disabled-fill-color);\n",
              "    box-shadow: none;\n",
              "  }\n",
              "\n",
              "  .colab-df-spinner {\n",
              "    border: 2px solid var(--fill-color);\n",
              "    border-color: transparent;\n",
              "    border-bottom-color: var(--fill-color);\n",
              "    animation:\n",
              "      spin 1s steps(1) infinite;\n",
              "  }\n",
              "\n",
              "  @keyframes spin {\n",
              "    0% {\n",
              "      border-color: transparent;\n",
              "      border-bottom-color: var(--fill-color);\n",
              "      border-left-color: var(--fill-color);\n",
              "    }\n",
              "    20% {\n",
              "      border-color: transparent;\n",
              "      border-left-color: var(--fill-color);\n",
              "      border-top-color: var(--fill-color);\n",
              "    }\n",
              "    30% {\n",
              "      border-color: transparent;\n",
              "      border-left-color: var(--fill-color);\n",
              "      border-top-color: var(--fill-color);\n",
              "      border-right-color: var(--fill-color);\n",
              "    }\n",
              "    40% {\n",
              "      border-color: transparent;\n",
              "      border-right-color: var(--fill-color);\n",
              "      border-top-color: var(--fill-color);\n",
              "    }\n",
              "    60% {\n",
              "      border-color: transparent;\n",
              "      border-right-color: var(--fill-color);\n",
              "    }\n",
              "    80% {\n",
              "      border-color: transparent;\n",
              "      border-right-color: var(--fill-color);\n",
              "      border-bottom-color: var(--fill-color);\n",
              "    }\n",
              "    90% {\n",
              "      border-color: transparent;\n",
              "      border-bottom-color: var(--fill-color);\n",
              "    }\n",
              "  }\n",
              "</style>\n",
              "\n",
              "  <script>\n",
              "    async function quickchart(key) {\n",
              "      const quickchartButtonEl =\n",
              "        document.querySelector('#' + key + ' button');\n",
              "      quickchartButtonEl.disabled = true;  // To prevent multiple clicks.\n",
              "      quickchartButtonEl.classList.add('colab-df-spinner');\n",
              "      try {\n",
              "        const charts = await google.colab.kernel.invokeFunction(\n",
              "            'suggestCharts', [key], {});\n",
              "      } catch (error) {\n",
              "        console.error('Error during call to suggestCharts:', error);\n",
              "      }\n",
              "      quickchartButtonEl.classList.remove('colab-df-spinner');\n",
              "      quickchartButtonEl.classList.add('colab-df-quickchart-complete');\n",
              "    }\n",
              "    (() => {\n",
              "      let quickchartButtonEl =\n",
              "        document.querySelector('#df-ebc1b8ef-02bf-4510-92f4-c47c9f0241ae button');\n",
              "      quickchartButtonEl.style.display =\n",
              "        google.colab.kernel.accessAllowed ? 'block' : 'none';\n",
              "    })();\n",
              "  </script>\n",
              "</div>\n",
              "\n",
              "    </div>\n",
              "  </div>\n"
            ],
            "application/vnd.google.colaboratory.intrinsic+json": {
              "type": "dataframe",
              "variable_name": "data",
              "summary": "{\n  \"name\": \"data\",\n  \"rows\": 550,\n  \"fields\": [\n    {\n      \"column\": \"produk_id\",\n      \"properties\": {\n        \"dtype\": \"number\",\n        \"std\": 158,\n        \"min\": 1,\n        \"max\": 550,\n        \"num_unique_values\": 550,\n        \"samples\": [\n          196,\n          80,\n          481\n        ],\n        \"semantic_type\": \"\",\n        \"description\": \"\"\n      }\n    },\n    {\n      \"column\": \"nama_produk\",\n      \"properties\": {\n        \"dtype\": \"string\",\n        \"num_unique_values\": 550,\n        \"samples\": [\n          \"Produk_196\",\n          \"Produk_80\",\n          \"Produk_481\"\n        ],\n        \"semantic_type\": \"\",\n        \"description\": \"\"\n      }\n    },\n    {\n      \"column\": \"kategori\",\n      \"properties\": {\n        \"dtype\": \"category\",\n        \"num_unique_values\": 6,\n        \"samples\": [\n          \"Smartwatch\",\n          \"Headphone\",\n          \"Smartphone\"\n        ],\n        \"semantic_type\": \"\",\n        \"description\": \"\"\n      }\n    },\n    {\n      \"column\": \"harga\",\n      \"properties\": {\n        \"dtype\": \"number\",\n        \"std\": 625.8867249279893,\n        \"min\": -213.0,\n        \"max\": 8341.0,\n        \"num_unique_values\": 394,\n        \"samples\": [\n          388.0,\n          492.0,\n          418.0\n        ],\n        \"semantic_type\": \"\",\n        \"description\": \"\"\n      }\n    },\n    {\n      \"column\": \"rating\",\n      \"properties\": {\n        \"dtype\": \"number\",\n        \"std\": 0.5710523983693329,\n        \"min\": 3.0,\n        \"max\": 5.0,\n        \"num_unique_values\": 21,\n        \"samples\": [\n          4.2,\n          4.3,\n          5.0\n        ],\n        \"semantic_type\": \"\",\n        \"description\": \"\"\n      }\n    },\n    {\n      \"column\": \"jumlah_ulasan\",\n      \"properties\": {\n        \"dtype\": \"number\",\n        \"std\": 142.65537992151366,\n        \"min\": 12.0,\n        \"max\": 499.0,\n        \"num_unique_values\": 327,\n        \"samples\": [\n          212.0,\n          172.0,\n          375.0\n        ],\n        \"semantic_type\": \"\",\n        \"description\": \"\"\n      }\n    },\n    {\n      \"column\": \"negara_asal\",\n      \"properties\": {\n        \"dtype\": \"category\",\n        \"num_unique_values\": 9,\n        \"samples\": [\n          \"India\",\n          \"Canada\",\n          \"Germany\"\n        ],\n        \"semantic_type\": \"\",\n        \"description\": \"\"\n      }\n    }\n  ]\n}"
            }
          },
          "metadata": {},
          "execution_count": 77
        }
      ],
      "source": [
        "data.head()"
      ]
    },
    {
      "cell_type": "code",
      "execution_count": 78,
      "id": "91b37da4",
      "metadata": {
        "colab": {
          "base_uri": "https://localhost:8080/",
          "height": 206
        },
        "id": "91b37da4",
        "outputId": "e72af035-16e2-4a32-b0b0-90cfda86cd3c"
      },
      "outputs": [
        {
          "output_type": "execute_result",
          "data": {
            "text/plain": [
              "     produk_id nama_produk   kategori  harga  rating  jumlah_ulasan  \\\n",
              "545        546  Produk_546     Laptop  496.0     3.9           19.0   \n",
              "546        547  Produk_547  Headphone  628.0     4.7          414.0   \n",
              "547        548  Produk_548     Tablet  465.0     4.3          393.0   \n",
              "548        549  Produk_549     Laptop  495.0     3.1          311.0   \n",
              "549        550  Produk_550     Tablet  388.0     4.3          240.0   \n",
              "\n",
              "    negara_asal  \n",
              "545       China  \n",
              "546         USA  \n",
              "547       India  \n",
              "548     Germany  \n",
              "549     Germany  "
            ],
            "text/html": [
              "\n",
              "  <div id=\"df-56d77126-bb72-48c4-b56f-23f4cc2e0b20\" class=\"colab-df-container\">\n",
              "    <div>\n",
              "<style scoped>\n",
              "    .dataframe tbody tr th:only-of-type {\n",
              "        vertical-align: middle;\n",
              "    }\n",
              "\n",
              "    .dataframe tbody tr th {\n",
              "        vertical-align: top;\n",
              "    }\n",
              "\n",
              "    .dataframe thead th {\n",
              "        text-align: right;\n",
              "    }\n",
              "</style>\n",
              "<table border=\"1\" class=\"dataframe\">\n",
              "  <thead>\n",
              "    <tr style=\"text-align: right;\">\n",
              "      <th></th>\n",
              "      <th>produk_id</th>\n",
              "      <th>nama_produk</th>\n",
              "      <th>kategori</th>\n",
              "      <th>harga</th>\n",
              "      <th>rating</th>\n",
              "      <th>jumlah_ulasan</th>\n",
              "      <th>negara_asal</th>\n",
              "    </tr>\n",
              "  </thead>\n",
              "  <tbody>\n",
              "    <tr>\n",
              "      <th>545</th>\n",
              "      <td>546</td>\n",
              "      <td>Produk_546</td>\n",
              "      <td>Laptop</td>\n",
              "      <td>496.0</td>\n",
              "      <td>3.9</td>\n",
              "      <td>19.0</td>\n",
              "      <td>China</td>\n",
              "    </tr>\n",
              "    <tr>\n",
              "      <th>546</th>\n",
              "      <td>547</td>\n",
              "      <td>Produk_547</td>\n",
              "      <td>Headphone</td>\n",
              "      <td>628.0</td>\n",
              "      <td>4.7</td>\n",
              "      <td>414.0</td>\n",
              "      <td>USA</td>\n",
              "    </tr>\n",
              "    <tr>\n",
              "      <th>547</th>\n",
              "      <td>548</td>\n",
              "      <td>Produk_548</td>\n",
              "      <td>Tablet</td>\n",
              "      <td>465.0</td>\n",
              "      <td>4.3</td>\n",
              "      <td>393.0</td>\n",
              "      <td>India</td>\n",
              "    </tr>\n",
              "    <tr>\n",
              "      <th>548</th>\n",
              "      <td>549</td>\n",
              "      <td>Produk_549</td>\n",
              "      <td>Laptop</td>\n",
              "      <td>495.0</td>\n",
              "      <td>3.1</td>\n",
              "      <td>311.0</td>\n",
              "      <td>Germany</td>\n",
              "    </tr>\n",
              "    <tr>\n",
              "      <th>549</th>\n",
              "      <td>550</td>\n",
              "      <td>Produk_550</td>\n",
              "      <td>Tablet</td>\n",
              "      <td>388.0</td>\n",
              "      <td>4.3</td>\n",
              "      <td>240.0</td>\n",
              "      <td>Germany</td>\n",
              "    </tr>\n",
              "  </tbody>\n",
              "</table>\n",
              "</div>\n",
              "    <div class=\"colab-df-buttons\">\n",
              "\n",
              "  <div class=\"colab-df-container\">\n",
              "    <button class=\"colab-df-convert\" onclick=\"convertToInteractive('df-56d77126-bb72-48c4-b56f-23f4cc2e0b20')\"\n",
              "            title=\"Convert this dataframe to an interactive table.\"\n",
              "            style=\"display:none;\">\n",
              "\n",
              "  <svg xmlns=\"http://www.w3.org/2000/svg\" height=\"24px\" viewBox=\"0 -960 960 960\">\n",
              "    <path d=\"M120-120v-720h720v720H120Zm60-500h600v-160H180v160Zm220 220h160v-160H400v160Zm0 220h160v-160H400v160ZM180-400h160v-160H180v160Zm440 0h160v-160H620v160ZM180-180h160v-160H180v160Zm440 0h160v-160H620v160Z\"/>\n",
              "  </svg>\n",
              "    </button>\n",
              "\n",
              "  <style>\n",
              "    .colab-df-container {\n",
              "      display:flex;\n",
              "      gap: 12px;\n",
              "    }\n",
              "\n",
              "    .colab-df-convert {\n",
              "      background-color: #E8F0FE;\n",
              "      border: none;\n",
              "      border-radius: 50%;\n",
              "      cursor: pointer;\n",
              "      display: none;\n",
              "      fill: #1967D2;\n",
              "      height: 32px;\n",
              "      padding: 0 0 0 0;\n",
              "      width: 32px;\n",
              "    }\n",
              "\n",
              "    .colab-df-convert:hover {\n",
              "      background-color: #E2EBFA;\n",
              "      box-shadow: 0px 1px 2px rgba(60, 64, 67, 0.3), 0px 1px 3px 1px rgba(60, 64, 67, 0.15);\n",
              "      fill: #174EA6;\n",
              "    }\n",
              "\n",
              "    .colab-df-buttons div {\n",
              "      margin-bottom: 4px;\n",
              "    }\n",
              "\n",
              "    [theme=dark] .colab-df-convert {\n",
              "      background-color: #3B4455;\n",
              "      fill: #D2E3FC;\n",
              "    }\n",
              "\n",
              "    [theme=dark] .colab-df-convert:hover {\n",
              "      background-color: #434B5C;\n",
              "      box-shadow: 0px 1px 3px 1px rgba(0, 0, 0, 0.15);\n",
              "      filter: drop-shadow(0px 1px 2px rgba(0, 0, 0, 0.3));\n",
              "      fill: #FFFFFF;\n",
              "    }\n",
              "  </style>\n",
              "\n",
              "    <script>\n",
              "      const buttonEl =\n",
              "        document.querySelector('#df-56d77126-bb72-48c4-b56f-23f4cc2e0b20 button.colab-df-convert');\n",
              "      buttonEl.style.display =\n",
              "        google.colab.kernel.accessAllowed ? 'block' : 'none';\n",
              "\n",
              "      async function convertToInteractive(key) {\n",
              "        const element = document.querySelector('#df-56d77126-bb72-48c4-b56f-23f4cc2e0b20');\n",
              "        const dataTable =\n",
              "          await google.colab.kernel.invokeFunction('convertToInteractive',\n",
              "                                                    [key], {});\n",
              "        if (!dataTable) return;\n",
              "\n",
              "        const docLinkHtml = 'Like what you see? Visit the ' +\n",
              "          '<a target=\"_blank\" href=https://colab.research.google.com/notebooks/data_table.ipynb>data table notebook</a>'\n",
              "          + ' to learn more about interactive tables.';\n",
              "        element.innerHTML = '';\n",
              "        dataTable['output_type'] = 'display_data';\n",
              "        await google.colab.output.renderOutput(dataTable, element);\n",
              "        const docLink = document.createElement('div');\n",
              "        docLink.innerHTML = docLinkHtml;\n",
              "        element.appendChild(docLink);\n",
              "      }\n",
              "    </script>\n",
              "  </div>\n",
              "\n",
              "\n",
              "<div id=\"df-4a0c1730-7ba4-44e9-b6a4-a679940329bb\">\n",
              "  <button class=\"colab-df-quickchart\" onclick=\"quickchart('df-4a0c1730-7ba4-44e9-b6a4-a679940329bb')\"\n",
              "            title=\"Suggest charts\"\n",
              "            style=\"display:none;\">\n",
              "\n",
              "<svg xmlns=\"http://www.w3.org/2000/svg\" height=\"24px\"viewBox=\"0 0 24 24\"\n",
              "     width=\"24px\">\n",
              "    <g>\n",
              "        <path d=\"M19 3H5c-1.1 0-2 .9-2 2v14c0 1.1.9 2 2 2h14c1.1 0 2-.9 2-2V5c0-1.1-.9-2-2-2zM9 17H7v-7h2v7zm4 0h-2V7h2v10zm4 0h-2v-4h2v4z\"/>\n",
              "    </g>\n",
              "</svg>\n",
              "  </button>\n",
              "\n",
              "<style>\n",
              "  .colab-df-quickchart {\n",
              "      --bg-color: #E8F0FE;\n",
              "      --fill-color: #1967D2;\n",
              "      --hover-bg-color: #E2EBFA;\n",
              "      --hover-fill-color: #174EA6;\n",
              "      --disabled-fill-color: #AAA;\n",
              "      --disabled-bg-color: #DDD;\n",
              "  }\n",
              "\n",
              "  [theme=dark] .colab-df-quickchart {\n",
              "      --bg-color: #3B4455;\n",
              "      --fill-color: #D2E3FC;\n",
              "      --hover-bg-color: #434B5C;\n",
              "      --hover-fill-color: #FFFFFF;\n",
              "      --disabled-bg-color: #3B4455;\n",
              "      --disabled-fill-color: #666;\n",
              "  }\n",
              "\n",
              "  .colab-df-quickchart {\n",
              "    background-color: var(--bg-color);\n",
              "    border: none;\n",
              "    border-radius: 50%;\n",
              "    cursor: pointer;\n",
              "    display: none;\n",
              "    fill: var(--fill-color);\n",
              "    height: 32px;\n",
              "    padding: 0;\n",
              "    width: 32px;\n",
              "  }\n",
              "\n",
              "  .colab-df-quickchart:hover {\n",
              "    background-color: var(--hover-bg-color);\n",
              "    box-shadow: 0 1px 2px rgba(60, 64, 67, 0.3), 0 1px 3px 1px rgba(60, 64, 67, 0.15);\n",
              "    fill: var(--button-hover-fill-color);\n",
              "  }\n",
              "\n",
              "  .colab-df-quickchart-complete:disabled,\n",
              "  .colab-df-quickchart-complete:disabled:hover {\n",
              "    background-color: var(--disabled-bg-color);\n",
              "    fill: var(--disabled-fill-color);\n",
              "    box-shadow: none;\n",
              "  }\n",
              "\n",
              "  .colab-df-spinner {\n",
              "    border: 2px solid var(--fill-color);\n",
              "    border-color: transparent;\n",
              "    border-bottom-color: var(--fill-color);\n",
              "    animation:\n",
              "      spin 1s steps(1) infinite;\n",
              "  }\n",
              "\n",
              "  @keyframes spin {\n",
              "    0% {\n",
              "      border-color: transparent;\n",
              "      border-bottom-color: var(--fill-color);\n",
              "      border-left-color: var(--fill-color);\n",
              "    }\n",
              "    20% {\n",
              "      border-color: transparent;\n",
              "      border-left-color: var(--fill-color);\n",
              "      border-top-color: var(--fill-color);\n",
              "    }\n",
              "    30% {\n",
              "      border-color: transparent;\n",
              "      border-left-color: var(--fill-color);\n",
              "      border-top-color: var(--fill-color);\n",
              "      border-right-color: var(--fill-color);\n",
              "    }\n",
              "    40% {\n",
              "      border-color: transparent;\n",
              "      border-right-color: var(--fill-color);\n",
              "      border-top-color: var(--fill-color);\n",
              "    }\n",
              "    60% {\n",
              "      border-color: transparent;\n",
              "      border-right-color: var(--fill-color);\n",
              "    }\n",
              "    80% {\n",
              "      border-color: transparent;\n",
              "      border-right-color: var(--fill-color);\n",
              "      border-bottom-color: var(--fill-color);\n",
              "    }\n",
              "    90% {\n",
              "      border-color: transparent;\n",
              "      border-bottom-color: var(--fill-color);\n",
              "    }\n",
              "  }\n",
              "</style>\n",
              "\n",
              "  <script>\n",
              "    async function quickchart(key) {\n",
              "      const quickchartButtonEl =\n",
              "        document.querySelector('#' + key + ' button');\n",
              "      quickchartButtonEl.disabled = true;  // To prevent multiple clicks.\n",
              "      quickchartButtonEl.classList.add('colab-df-spinner');\n",
              "      try {\n",
              "        const charts = await google.colab.kernel.invokeFunction(\n",
              "            'suggestCharts', [key], {});\n",
              "      } catch (error) {\n",
              "        console.error('Error during call to suggestCharts:', error);\n",
              "      }\n",
              "      quickchartButtonEl.classList.remove('colab-df-spinner');\n",
              "      quickchartButtonEl.classList.add('colab-df-quickchart-complete');\n",
              "    }\n",
              "    (() => {\n",
              "      let quickchartButtonEl =\n",
              "        document.querySelector('#df-4a0c1730-7ba4-44e9-b6a4-a679940329bb button');\n",
              "      quickchartButtonEl.style.display =\n",
              "        google.colab.kernel.accessAllowed ? 'block' : 'none';\n",
              "    })();\n",
              "  </script>\n",
              "</div>\n",
              "\n",
              "    </div>\n",
              "  </div>\n"
            ],
            "application/vnd.google.colaboratory.intrinsic+json": {
              "type": "dataframe",
              "summary": "{\n  \"name\": \"data\",\n  \"rows\": 5,\n  \"fields\": [\n    {\n      \"column\": \"produk_id\",\n      \"properties\": {\n        \"dtype\": \"number\",\n        \"std\": 1,\n        \"min\": 546,\n        \"max\": 550,\n        \"num_unique_values\": 5,\n        \"samples\": [\n          547,\n          550,\n          548\n        ],\n        \"semantic_type\": \"\",\n        \"description\": \"\"\n      }\n    },\n    {\n      \"column\": \"nama_produk\",\n      \"properties\": {\n        \"dtype\": \"string\",\n        \"num_unique_values\": 5,\n        \"samples\": [\n          \"Produk_547\",\n          \"Produk_550\",\n          \"Produk_548\"\n        ],\n        \"semantic_type\": \"\",\n        \"description\": \"\"\n      }\n    },\n    {\n      \"column\": \"kategori\",\n      \"properties\": {\n        \"dtype\": \"string\",\n        \"num_unique_values\": 3,\n        \"samples\": [\n          \"Laptop\",\n          \"Headphone\",\n          \"Tablet\"\n        ],\n        \"semantic_type\": \"\",\n        \"description\": \"\"\n      }\n    },\n    {\n      \"column\": \"harga\",\n      \"properties\": {\n        \"dtype\": \"number\",\n        \"std\": 86.65621731878215,\n        \"min\": 388.0,\n        \"max\": 628.0,\n        \"num_unique_values\": 5,\n        \"samples\": [\n          628.0,\n          388.0,\n          465.0\n        ],\n        \"semantic_type\": \"\",\n        \"description\": \"\"\n      }\n    },\n    {\n      \"column\": \"rating\",\n      \"properties\": {\n        \"dtype\": \"number\",\n        \"std\": 0.6066300355241241,\n        \"min\": 3.1,\n        \"max\": 4.7,\n        \"num_unique_values\": 4,\n        \"samples\": [\n          4.7,\n          3.1,\n          3.9\n        ],\n        \"semantic_type\": \"\",\n        \"description\": \"\"\n      }\n    },\n    {\n      \"column\": \"jumlah_ulasan\",\n      \"properties\": {\n        \"dtype\": \"number\",\n        \"std\": 159.13924720193947,\n        \"min\": 19.0,\n        \"max\": 414.0,\n        \"num_unique_values\": 5,\n        \"samples\": [\n          414.0,\n          240.0,\n          393.0\n        ],\n        \"semantic_type\": \"\",\n        \"description\": \"\"\n      }\n    },\n    {\n      \"column\": \"negara_asal\",\n      \"properties\": {\n        \"dtype\": \"string\",\n        \"num_unique_values\": 4,\n        \"samples\": [\n          \"USA\",\n          \"Germany\",\n          \"China\"\n        ],\n        \"semantic_type\": \"\",\n        \"description\": \"\"\n      }\n    }\n  ]\n}"
            }
          },
          "metadata": {},
          "execution_count": 78
        }
      ],
      "source": [
        "data.tail(5)"
      ]
    },
    {
      "cell_type": "code",
      "execution_count": 79,
      "id": "9e933471",
      "metadata": {
        "scrolled": true,
        "colab": {
          "base_uri": "https://localhost:8080/",
          "height": 300
        },
        "id": "9e933471",
        "outputId": "a648f9da-c499-4731-cd4e-c884b1e3371c"
      },
      "outputs": [
        {
          "output_type": "execute_result",
          "data": {
            "text/plain": [
              "        produk_id        harga      rating  jumlah_ulasan\n",
              "count  550.000000   520.000000  500.000000     530.000000\n",
              "mean   275.500000   565.715385    4.005600     259.671698\n",
              "std    158.915596   625.886725    0.571052     142.655380\n",
              "min      1.000000  -213.000000    3.000000      12.000000\n",
              "25%    138.250000   374.000000    3.500000     139.000000\n",
              "50%    275.500000   516.000000    4.000000     262.500000\n",
              "75%    412.750000   656.250000    4.500000     390.750000\n",
              "max    550.000000  8341.000000    5.000000     499.000000"
            ],
            "text/html": [
              "\n",
              "  <div id=\"df-cc93242b-d8e9-4245-bbb4-2ffeeea7c168\" class=\"colab-df-container\">\n",
              "    <div>\n",
              "<style scoped>\n",
              "    .dataframe tbody tr th:only-of-type {\n",
              "        vertical-align: middle;\n",
              "    }\n",
              "\n",
              "    .dataframe tbody tr th {\n",
              "        vertical-align: top;\n",
              "    }\n",
              "\n",
              "    .dataframe thead th {\n",
              "        text-align: right;\n",
              "    }\n",
              "</style>\n",
              "<table border=\"1\" class=\"dataframe\">\n",
              "  <thead>\n",
              "    <tr style=\"text-align: right;\">\n",
              "      <th></th>\n",
              "      <th>produk_id</th>\n",
              "      <th>harga</th>\n",
              "      <th>rating</th>\n",
              "      <th>jumlah_ulasan</th>\n",
              "    </tr>\n",
              "  </thead>\n",
              "  <tbody>\n",
              "    <tr>\n",
              "      <th>count</th>\n",
              "      <td>550.000000</td>\n",
              "      <td>520.000000</td>\n",
              "      <td>500.000000</td>\n",
              "      <td>530.000000</td>\n",
              "    </tr>\n",
              "    <tr>\n",
              "      <th>mean</th>\n",
              "      <td>275.500000</td>\n",
              "      <td>565.715385</td>\n",
              "      <td>4.005600</td>\n",
              "      <td>259.671698</td>\n",
              "    </tr>\n",
              "    <tr>\n",
              "      <th>std</th>\n",
              "      <td>158.915596</td>\n",
              "      <td>625.886725</td>\n",
              "      <td>0.571052</td>\n",
              "      <td>142.655380</td>\n",
              "    </tr>\n",
              "    <tr>\n",
              "      <th>min</th>\n",
              "      <td>1.000000</td>\n",
              "      <td>-213.000000</td>\n",
              "      <td>3.000000</td>\n",
              "      <td>12.000000</td>\n",
              "    </tr>\n",
              "    <tr>\n",
              "      <th>25%</th>\n",
              "      <td>138.250000</td>\n",
              "      <td>374.000000</td>\n",
              "      <td>3.500000</td>\n",
              "      <td>139.000000</td>\n",
              "    </tr>\n",
              "    <tr>\n",
              "      <th>50%</th>\n",
              "      <td>275.500000</td>\n",
              "      <td>516.000000</td>\n",
              "      <td>4.000000</td>\n",
              "      <td>262.500000</td>\n",
              "    </tr>\n",
              "    <tr>\n",
              "      <th>75%</th>\n",
              "      <td>412.750000</td>\n",
              "      <td>656.250000</td>\n",
              "      <td>4.500000</td>\n",
              "      <td>390.750000</td>\n",
              "    </tr>\n",
              "    <tr>\n",
              "      <th>max</th>\n",
              "      <td>550.000000</td>\n",
              "      <td>8341.000000</td>\n",
              "      <td>5.000000</td>\n",
              "      <td>499.000000</td>\n",
              "    </tr>\n",
              "  </tbody>\n",
              "</table>\n",
              "</div>\n",
              "    <div class=\"colab-df-buttons\">\n",
              "\n",
              "  <div class=\"colab-df-container\">\n",
              "    <button class=\"colab-df-convert\" onclick=\"convertToInteractive('df-cc93242b-d8e9-4245-bbb4-2ffeeea7c168')\"\n",
              "            title=\"Convert this dataframe to an interactive table.\"\n",
              "            style=\"display:none;\">\n",
              "\n",
              "  <svg xmlns=\"http://www.w3.org/2000/svg\" height=\"24px\" viewBox=\"0 -960 960 960\">\n",
              "    <path d=\"M120-120v-720h720v720H120Zm60-500h600v-160H180v160Zm220 220h160v-160H400v160Zm0 220h160v-160H400v160ZM180-400h160v-160H180v160Zm440 0h160v-160H620v160ZM180-180h160v-160H180v160Zm440 0h160v-160H620v160Z\"/>\n",
              "  </svg>\n",
              "    </button>\n",
              "\n",
              "  <style>\n",
              "    .colab-df-container {\n",
              "      display:flex;\n",
              "      gap: 12px;\n",
              "    }\n",
              "\n",
              "    .colab-df-convert {\n",
              "      background-color: #E8F0FE;\n",
              "      border: none;\n",
              "      border-radius: 50%;\n",
              "      cursor: pointer;\n",
              "      display: none;\n",
              "      fill: #1967D2;\n",
              "      height: 32px;\n",
              "      padding: 0 0 0 0;\n",
              "      width: 32px;\n",
              "    }\n",
              "\n",
              "    .colab-df-convert:hover {\n",
              "      background-color: #E2EBFA;\n",
              "      box-shadow: 0px 1px 2px rgba(60, 64, 67, 0.3), 0px 1px 3px 1px rgba(60, 64, 67, 0.15);\n",
              "      fill: #174EA6;\n",
              "    }\n",
              "\n",
              "    .colab-df-buttons div {\n",
              "      margin-bottom: 4px;\n",
              "    }\n",
              "\n",
              "    [theme=dark] .colab-df-convert {\n",
              "      background-color: #3B4455;\n",
              "      fill: #D2E3FC;\n",
              "    }\n",
              "\n",
              "    [theme=dark] .colab-df-convert:hover {\n",
              "      background-color: #434B5C;\n",
              "      box-shadow: 0px 1px 3px 1px rgba(0, 0, 0, 0.15);\n",
              "      filter: drop-shadow(0px 1px 2px rgba(0, 0, 0, 0.3));\n",
              "      fill: #FFFFFF;\n",
              "    }\n",
              "  </style>\n",
              "\n",
              "    <script>\n",
              "      const buttonEl =\n",
              "        document.querySelector('#df-cc93242b-d8e9-4245-bbb4-2ffeeea7c168 button.colab-df-convert');\n",
              "      buttonEl.style.display =\n",
              "        google.colab.kernel.accessAllowed ? 'block' : 'none';\n",
              "\n",
              "      async function convertToInteractive(key) {\n",
              "        const element = document.querySelector('#df-cc93242b-d8e9-4245-bbb4-2ffeeea7c168');\n",
              "        const dataTable =\n",
              "          await google.colab.kernel.invokeFunction('convertToInteractive',\n",
              "                                                    [key], {});\n",
              "        if (!dataTable) return;\n",
              "\n",
              "        const docLinkHtml = 'Like what you see? Visit the ' +\n",
              "          '<a target=\"_blank\" href=https://colab.research.google.com/notebooks/data_table.ipynb>data table notebook</a>'\n",
              "          + ' to learn more about interactive tables.';\n",
              "        element.innerHTML = '';\n",
              "        dataTable['output_type'] = 'display_data';\n",
              "        await google.colab.output.renderOutput(dataTable, element);\n",
              "        const docLink = document.createElement('div');\n",
              "        docLink.innerHTML = docLinkHtml;\n",
              "        element.appendChild(docLink);\n",
              "      }\n",
              "    </script>\n",
              "  </div>\n",
              "\n",
              "\n",
              "<div id=\"df-b57b050b-fd1c-4a36-83c8-4f7a072924bf\">\n",
              "  <button class=\"colab-df-quickchart\" onclick=\"quickchart('df-b57b050b-fd1c-4a36-83c8-4f7a072924bf')\"\n",
              "            title=\"Suggest charts\"\n",
              "            style=\"display:none;\">\n",
              "\n",
              "<svg xmlns=\"http://www.w3.org/2000/svg\" height=\"24px\"viewBox=\"0 0 24 24\"\n",
              "     width=\"24px\">\n",
              "    <g>\n",
              "        <path d=\"M19 3H5c-1.1 0-2 .9-2 2v14c0 1.1.9 2 2 2h14c1.1 0 2-.9 2-2V5c0-1.1-.9-2-2-2zM9 17H7v-7h2v7zm4 0h-2V7h2v10zm4 0h-2v-4h2v4z\"/>\n",
              "    </g>\n",
              "</svg>\n",
              "  </button>\n",
              "\n",
              "<style>\n",
              "  .colab-df-quickchart {\n",
              "      --bg-color: #E8F0FE;\n",
              "      --fill-color: #1967D2;\n",
              "      --hover-bg-color: #E2EBFA;\n",
              "      --hover-fill-color: #174EA6;\n",
              "      --disabled-fill-color: #AAA;\n",
              "      --disabled-bg-color: #DDD;\n",
              "  }\n",
              "\n",
              "  [theme=dark] .colab-df-quickchart {\n",
              "      --bg-color: #3B4455;\n",
              "      --fill-color: #D2E3FC;\n",
              "      --hover-bg-color: #434B5C;\n",
              "      --hover-fill-color: #FFFFFF;\n",
              "      --disabled-bg-color: #3B4455;\n",
              "      --disabled-fill-color: #666;\n",
              "  }\n",
              "\n",
              "  .colab-df-quickchart {\n",
              "    background-color: var(--bg-color);\n",
              "    border: none;\n",
              "    border-radius: 50%;\n",
              "    cursor: pointer;\n",
              "    display: none;\n",
              "    fill: var(--fill-color);\n",
              "    height: 32px;\n",
              "    padding: 0;\n",
              "    width: 32px;\n",
              "  }\n",
              "\n",
              "  .colab-df-quickchart:hover {\n",
              "    background-color: var(--hover-bg-color);\n",
              "    box-shadow: 0 1px 2px rgba(60, 64, 67, 0.3), 0 1px 3px 1px rgba(60, 64, 67, 0.15);\n",
              "    fill: var(--button-hover-fill-color);\n",
              "  }\n",
              "\n",
              "  .colab-df-quickchart-complete:disabled,\n",
              "  .colab-df-quickchart-complete:disabled:hover {\n",
              "    background-color: var(--disabled-bg-color);\n",
              "    fill: var(--disabled-fill-color);\n",
              "    box-shadow: none;\n",
              "  }\n",
              "\n",
              "  .colab-df-spinner {\n",
              "    border: 2px solid var(--fill-color);\n",
              "    border-color: transparent;\n",
              "    border-bottom-color: var(--fill-color);\n",
              "    animation:\n",
              "      spin 1s steps(1) infinite;\n",
              "  }\n",
              "\n",
              "  @keyframes spin {\n",
              "    0% {\n",
              "      border-color: transparent;\n",
              "      border-bottom-color: var(--fill-color);\n",
              "      border-left-color: var(--fill-color);\n",
              "    }\n",
              "    20% {\n",
              "      border-color: transparent;\n",
              "      border-left-color: var(--fill-color);\n",
              "      border-top-color: var(--fill-color);\n",
              "    }\n",
              "    30% {\n",
              "      border-color: transparent;\n",
              "      border-left-color: var(--fill-color);\n",
              "      border-top-color: var(--fill-color);\n",
              "      border-right-color: var(--fill-color);\n",
              "    }\n",
              "    40% {\n",
              "      border-color: transparent;\n",
              "      border-right-color: var(--fill-color);\n",
              "      border-top-color: var(--fill-color);\n",
              "    }\n",
              "    60% {\n",
              "      border-color: transparent;\n",
              "      border-right-color: var(--fill-color);\n",
              "    }\n",
              "    80% {\n",
              "      border-color: transparent;\n",
              "      border-right-color: var(--fill-color);\n",
              "      border-bottom-color: var(--fill-color);\n",
              "    }\n",
              "    90% {\n",
              "      border-color: transparent;\n",
              "      border-bottom-color: var(--fill-color);\n",
              "    }\n",
              "  }\n",
              "</style>\n",
              "\n",
              "  <script>\n",
              "    async function quickchart(key) {\n",
              "      const quickchartButtonEl =\n",
              "        document.querySelector('#' + key + ' button');\n",
              "      quickchartButtonEl.disabled = true;  // To prevent multiple clicks.\n",
              "      quickchartButtonEl.classList.add('colab-df-spinner');\n",
              "      try {\n",
              "        const charts = await google.colab.kernel.invokeFunction(\n",
              "            'suggestCharts', [key], {});\n",
              "      } catch (error) {\n",
              "        console.error('Error during call to suggestCharts:', error);\n",
              "      }\n",
              "      quickchartButtonEl.classList.remove('colab-df-spinner');\n",
              "      quickchartButtonEl.classList.add('colab-df-quickchart-complete');\n",
              "    }\n",
              "    (() => {\n",
              "      let quickchartButtonEl =\n",
              "        document.querySelector('#df-b57b050b-fd1c-4a36-83c8-4f7a072924bf button');\n",
              "      quickchartButtonEl.style.display =\n",
              "        google.colab.kernel.accessAllowed ? 'block' : 'none';\n",
              "    })();\n",
              "  </script>\n",
              "</div>\n",
              "\n",
              "    </div>\n",
              "  </div>\n"
            ],
            "application/vnd.google.colaboratory.intrinsic+json": {
              "type": "dataframe",
              "summary": "{\n  \"name\": \"data\",\n  \"rows\": 8,\n  \"fields\": [\n    {\n      \"column\": \"produk_id\",\n      \"properties\": {\n        \"dtype\": \"number\",\n        \"std\": 197.9179596669068,\n        \"min\": 1.0,\n        \"max\": 550.0,\n        \"num_unique_values\": 6,\n        \"samples\": [\n          550.0,\n          275.5,\n          412.75\n        ],\n        \"semantic_type\": \"\",\n        \"description\": \"\"\n      }\n    },\n    {\n      \"column\": \"harga\",\n      \"properties\": {\n        \"dtype\": \"number\",\n        \"std\": 2808.96296621019,\n        \"min\": -213.0,\n        \"max\": 8341.0,\n        \"num_unique_values\": 8,\n        \"samples\": [\n          565.7153846153847,\n          516.0,\n          520.0\n        ],\n        \"semantic_type\": \"\",\n        \"description\": \"\"\n      }\n    },\n    {\n      \"column\": \"rating\",\n      \"properties\": {\n        \"dtype\": \"number\",\n        \"std\": 175.54050729187298,\n        \"min\": 0.5710523983693329,\n        \"max\": 500.0,\n        \"num_unique_values\": 8,\n        \"samples\": [\n          4.0056,\n          4.0,\n          500.0\n        ],\n        \"semantic_type\": \"\",\n        \"description\": \"\"\n      }\n    },\n    {\n      \"column\": \"jumlah_ulasan\",\n      \"properties\": {\n        \"dtype\": \"number\",\n        \"std\": 182.83956735825046,\n        \"min\": 12.0,\n        \"max\": 530.0,\n        \"num_unique_values\": 8,\n        \"samples\": [\n          259.6716981132075,\n          262.5,\n          530.0\n        ],\n        \"semantic_type\": \"\",\n        \"description\": \"\"\n      }\n    }\n  ]\n}"
            }
          },
          "metadata": {},
          "execution_count": 79
        }
      ],
      "source": [
        "#melihat statistika deskriptif\n",
        "data.describe()"
      ]
    },
    {
      "cell_type": "code",
      "execution_count": 80,
      "id": "e3ecc740",
      "metadata": {
        "scrolled": true,
        "colab": {
          "base_uri": "https://localhost:8080/"
        },
        "id": "e3ecc740",
        "outputId": "34b46654-a03b-4c00-bae2-e035819e8966"
      },
      "outputs": [
        {
          "output_type": "stream",
          "name": "stdout",
          "text": [
            "<class 'pandas.core.frame.DataFrame'>\n",
            "RangeIndex: 550 entries, 0 to 549\n",
            "Data columns (total 7 columns):\n",
            " #   Column         Non-Null Count  Dtype  \n",
            "---  ------         --------------  -----  \n",
            " 0   produk_id      550 non-null    int64  \n",
            " 1   nama_produk    550 non-null    object \n",
            " 2   kategori       550 non-null    object \n",
            " 3   harga          520 non-null    float64\n",
            " 4   rating         500 non-null    float64\n",
            " 5   jumlah_ulasan  530 non-null    float64\n",
            " 6   negara_asal    550 non-null    object \n",
            "dtypes: float64(3), int64(1), object(3)\n",
            "memory usage: 30.2+ KB\n"
          ]
        }
      ],
      "source": [
        "data.info()"
      ]
    },
    {
      "cell_type": "markdown",
      "id": "1be52fd2",
      "metadata": {
        "id": "1be52fd2"
      },
      "source": [
        "Berdasarkan output diatas, dapat disimpulkan bahwa dataset tersebut, memiliki total: 7 kolom. Kolom pada dataset tersebut memiliki tipe data yang beragam, yaitu: integer, object, dan float. Jumlah maksimal baris untuk setiap kolom sebanyak:  550 baris. Akan tetapi terdapat beberapa kolom yang memiliki jumlah baris < 550, maka akan dilakukan proses identifikasi lebih lanjut.\n",
        "\n"
      ]
    },
    {
      "cell_type": "markdown",
      "id": "2adc7fbe",
      "metadata": {
        "id": "2adc7fbe"
      },
      "source": [
        "# Deteksi Missing value"
      ]
    },
    {
      "cell_type": "code",
      "execution_count": 81,
      "id": "5428e9b2",
      "metadata": {
        "id": "5428e9b2",
        "outputId": "1a78cb1e-9ba4-4c0a-92d9-dea27e5d4806",
        "colab": {
          "base_uri": "https://localhost:8080/",
          "height": 424
        }
      },
      "outputs": [
        {
          "output_type": "execute_result",
          "data": {
            "text/plain": [
              "     produk_id  nama_produk  kategori  harga  rating  jumlah_ulasan  \\\n",
              "0        False        False     False  False   False          False   \n",
              "1        False        False     False  False   False          False   \n",
              "2        False        False     False  False   False          False   \n",
              "3        False        False     False  False   False          False   \n",
              "4        False        False     False  False   False          False   \n",
              "..         ...          ...       ...    ...     ...            ...   \n",
              "545      False        False     False  False   False          False   \n",
              "546      False        False     False  False   False          False   \n",
              "547      False        False     False  False   False          False   \n",
              "548      False        False     False  False   False          False   \n",
              "549      False        False     False  False   False          False   \n",
              "\n",
              "     negara_asal  \n",
              "0          False  \n",
              "1          False  \n",
              "2          False  \n",
              "3          False  \n",
              "4          False  \n",
              "..           ...  \n",
              "545        False  \n",
              "546        False  \n",
              "547        False  \n",
              "548        False  \n",
              "549        False  \n",
              "\n",
              "[550 rows x 7 columns]"
            ],
            "text/html": [
              "\n",
              "  <div id=\"df-b2aa86da-78cb-4cb4-8cc8-1aa4f15849c6\" class=\"colab-df-container\">\n",
              "    <div>\n",
              "<style scoped>\n",
              "    .dataframe tbody tr th:only-of-type {\n",
              "        vertical-align: middle;\n",
              "    }\n",
              "\n",
              "    .dataframe tbody tr th {\n",
              "        vertical-align: top;\n",
              "    }\n",
              "\n",
              "    .dataframe thead th {\n",
              "        text-align: right;\n",
              "    }\n",
              "</style>\n",
              "<table border=\"1\" class=\"dataframe\">\n",
              "  <thead>\n",
              "    <tr style=\"text-align: right;\">\n",
              "      <th></th>\n",
              "      <th>produk_id</th>\n",
              "      <th>nama_produk</th>\n",
              "      <th>kategori</th>\n",
              "      <th>harga</th>\n",
              "      <th>rating</th>\n",
              "      <th>jumlah_ulasan</th>\n",
              "      <th>negara_asal</th>\n",
              "    </tr>\n",
              "  </thead>\n",
              "  <tbody>\n",
              "    <tr>\n",
              "      <th>0</th>\n",
              "      <td>False</td>\n",
              "      <td>False</td>\n",
              "      <td>False</td>\n",
              "      <td>False</td>\n",
              "      <td>False</td>\n",
              "      <td>False</td>\n",
              "      <td>False</td>\n",
              "    </tr>\n",
              "    <tr>\n",
              "      <th>1</th>\n",
              "      <td>False</td>\n",
              "      <td>False</td>\n",
              "      <td>False</td>\n",
              "      <td>False</td>\n",
              "      <td>False</td>\n",
              "      <td>False</td>\n",
              "      <td>False</td>\n",
              "    </tr>\n",
              "    <tr>\n",
              "      <th>2</th>\n",
              "      <td>False</td>\n",
              "      <td>False</td>\n",
              "      <td>False</td>\n",
              "      <td>False</td>\n",
              "      <td>False</td>\n",
              "      <td>False</td>\n",
              "      <td>False</td>\n",
              "    </tr>\n",
              "    <tr>\n",
              "      <th>3</th>\n",
              "      <td>False</td>\n",
              "      <td>False</td>\n",
              "      <td>False</td>\n",
              "      <td>False</td>\n",
              "      <td>False</td>\n",
              "      <td>False</td>\n",
              "      <td>False</td>\n",
              "    </tr>\n",
              "    <tr>\n",
              "      <th>4</th>\n",
              "      <td>False</td>\n",
              "      <td>False</td>\n",
              "      <td>False</td>\n",
              "      <td>False</td>\n",
              "      <td>False</td>\n",
              "      <td>False</td>\n",
              "      <td>False</td>\n",
              "    </tr>\n",
              "    <tr>\n",
              "      <th>...</th>\n",
              "      <td>...</td>\n",
              "      <td>...</td>\n",
              "      <td>...</td>\n",
              "      <td>...</td>\n",
              "      <td>...</td>\n",
              "      <td>...</td>\n",
              "      <td>...</td>\n",
              "    </tr>\n",
              "    <tr>\n",
              "      <th>545</th>\n",
              "      <td>False</td>\n",
              "      <td>False</td>\n",
              "      <td>False</td>\n",
              "      <td>False</td>\n",
              "      <td>False</td>\n",
              "      <td>False</td>\n",
              "      <td>False</td>\n",
              "    </tr>\n",
              "    <tr>\n",
              "      <th>546</th>\n",
              "      <td>False</td>\n",
              "      <td>False</td>\n",
              "      <td>False</td>\n",
              "      <td>False</td>\n",
              "      <td>False</td>\n",
              "      <td>False</td>\n",
              "      <td>False</td>\n",
              "    </tr>\n",
              "    <tr>\n",
              "      <th>547</th>\n",
              "      <td>False</td>\n",
              "      <td>False</td>\n",
              "      <td>False</td>\n",
              "      <td>False</td>\n",
              "      <td>False</td>\n",
              "      <td>False</td>\n",
              "      <td>False</td>\n",
              "    </tr>\n",
              "    <tr>\n",
              "      <th>548</th>\n",
              "      <td>False</td>\n",
              "      <td>False</td>\n",
              "      <td>False</td>\n",
              "      <td>False</td>\n",
              "      <td>False</td>\n",
              "      <td>False</td>\n",
              "      <td>False</td>\n",
              "    </tr>\n",
              "    <tr>\n",
              "      <th>549</th>\n",
              "      <td>False</td>\n",
              "      <td>False</td>\n",
              "      <td>False</td>\n",
              "      <td>False</td>\n",
              "      <td>False</td>\n",
              "      <td>False</td>\n",
              "      <td>False</td>\n",
              "    </tr>\n",
              "  </tbody>\n",
              "</table>\n",
              "<p>550 rows × 7 columns</p>\n",
              "</div>\n",
              "    <div class=\"colab-df-buttons\">\n",
              "\n",
              "  <div class=\"colab-df-container\">\n",
              "    <button class=\"colab-df-convert\" onclick=\"convertToInteractive('df-b2aa86da-78cb-4cb4-8cc8-1aa4f15849c6')\"\n",
              "            title=\"Convert this dataframe to an interactive table.\"\n",
              "            style=\"display:none;\">\n",
              "\n",
              "  <svg xmlns=\"http://www.w3.org/2000/svg\" height=\"24px\" viewBox=\"0 -960 960 960\">\n",
              "    <path d=\"M120-120v-720h720v720H120Zm60-500h600v-160H180v160Zm220 220h160v-160H400v160Zm0 220h160v-160H400v160ZM180-400h160v-160H180v160Zm440 0h160v-160H620v160ZM180-180h160v-160H180v160Zm440 0h160v-160H620v160Z\"/>\n",
              "  </svg>\n",
              "    </button>\n",
              "\n",
              "  <style>\n",
              "    .colab-df-container {\n",
              "      display:flex;\n",
              "      gap: 12px;\n",
              "    }\n",
              "\n",
              "    .colab-df-convert {\n",
              "      background-color: #E8F0FE;\n",
              "      border: none;\n",
              "      border-radius: 50%;\n",
              "      cursor: pointer;\n",
              "      display: none;\n",
              "      fill: #1967D2;\n",
              "      height: 32px;\n",
              "      padding: 0 0 0 0;\n",
              "      width: 32px;\n",
              "    }\n",
              "\n",
              "    .colab-df-convert:hover {\n",
              "      background-color: #E2EBFA;\n",
              "      box-shadow: 0px 1px 2px rgba(60, 64, 67, 0.3), 0px 1px 3px 1px rgba(60, 64, 67, 0.15);\n",
              "      fill: #174EA6;\n",
              "    }\n",
              "\n",
              "    .colab-df-buttons div {\n",
              "      margin-bottom: 4px;\n",
              "    }\n",
              "\n",
              "    [theme=dark] .colab-df-convert {\n",
              "      background-color: #3B4455;\n",
              "      fill: #D2E3FC;\n",
              "    }\n",
              "\n",
              "    [theme=dark] .colab-df-convert:hover {\n",
              "      background-color: #434B5C;\n",
              "      box-shadow: 0px 1px 3px 1px rgba(0, 0, 0, 0.15);\n",
              "      filter: drop-shadow(0px 1px 2px rgba(0, 0, 0, 0.3));\n",
              "      fill: #FFFFFF;\n",
              "    }\n",
              "  </style>\n",
              "\n",
              "    <script>\n",
              "      const buttonEl =\n",
              "        document.querySelector('#df-b2aa86da-78cb-4cb4-8cc8-1aa4f15849c6 button.colab-df-convert');\n",
              "      buttonEl.style.display =\n",
              "        google.colab.kernel.accessAllowed ? 'block' : 'none';\n",
              "\n",
              "      async function convertToInteractive(key) {\n",
              "        const element = document.querySelector('#df-b2aa86da-78cb-4cb4-8cc8-1aa4f15849c6');\n",
              "        const dataTable =\n",
              "          await google.colab.kernel.invokeFunction('convertToInteractive',\n",
              "                                                    [key], {});\n",
              "        if (!dataTable) return;\n",
              "\n",
              "        const docLinkHtml = 'Like what you see? Visit the ' +\n",
              "          '<a target=\"_blank\" href=https://colab.research.google.com/notebooks/data_table.ipynb>data table notebook</a>'\n",
              "          + ' to learn more about interactive tables.';\n",
              "        element.innerHTML = '';\n",
              "        dataTable['output_type'] = 'display_data';\n",
              "        await google.colab.output.renderOutput(dataTable, element);\n",
              "        const docLink = document.createElement('div');\n",
              "        docLink.innerHTML = docLinkHtml;\n",
              "        element.appendChild(docLink);\n",
              "      }\n",
              "    </script>\n",
              "  </div>\n",
              "\n",
              "\n",
              "<div id=\"df-969f00a0-a949-4bea-a9b1-dc73f6a91513\">\n",
              "  <button class=\"colab-df-quickchart\" onclick=\"quickchart('df-969f00a0-a949-4bea-a9b1-dc73f6a91513')\"\n",
              "            title=\"Suggest charts\"\n",
              "            style=\"display:none;\">\n",
              "\n",
              "<svg xmlns=\"http://www.w3.org/2000/svg\" height=\"24px\"viewBox=\"0 0 24 24\"\n",
              "     width=\"24px\">\n",
              "    <g>\n",
              "        <path d=\"M19 3H5c-1.1 0-2 .9-2 2v14c0 1.1.9 2 2 2h14c1.1 0 2-.9 2-2V5c0-1.1-.9-2-2-2zM9 17H7v-7h2v7zm4 0h-2V7h2v10zm4 0h-2v-4h2v4z\"/>\n",
              "    </g>\n",
              "</svg>\n",
              "  </button>\n",
              "\n",
              "<style>\n",
              "  .colab-df-quickchart {\n",
              "      --bg-color: #E8F0FE;\n",
              "      --fill-color: #1967D2;\n",
              "      --hover-bg-color: #E2EBFA;\n",
              "      --hover-fill-color: #174EA6;\n",
              "      --disabled-fill-color: #AAA;\n",
              "      --disabled-bg-color: #DDD;\n",
              "  }\n",
              "\n",
              "  [theme=dark] .colab-df-quickchart {\n",
              "      --bg-color: #3B4455;\n",
              "      --fill-color: #D2E3FC;\n",
              "      --hover-bg-color: #434B5C;\n",
              "      --hover-fill-color: #FFFFFF;\n",
              "      --disabled-bg-color: #3B4455;\n",
              "      --disabled-fill-color: #666;\n",
              "  }\n",
              "\n",
              "  .colab-df-quickchart {\n",
              "    background-color: var(--bg-color);\n",
              "    border: none;\n",
              "    border-radius: 50%;\n",
              "    cursor: pointer;\n",
              "    display: none;\n",
              "    fill: var(--fill-color);\n",
              "    height: 32px;\n",
              "    padding: 0;\n",
              "    width: 32px;\n",
              "  }\n",
              "\n",
              "  .colab-df-quickchart:hover {\n",
              "    background-color: var(--hover-bg-color);\n",
              "    box-shadow: 0 1px 2px rgba(60, 64, 67, 0.3), 0 1px 3px 1px rgba(60, 64, 67, 0.15);\n",
              "    fill: var(--button-hover-fill-color);\n",
              "  }\n",
              "\n",
              "  .colab-df-quickchart-complete:disabled,\n",
              "  .colab-df-quickchart-complete:disabled:hover {\n",
              "    background-color: var(--disabled-bg-color);\n",
              "    fill: var(--disabled-fill-color);\n",
              "    box-shadow: none;\n",
              "  }\n",
              "\n",
              "  .colab-df-spinner {\n",
              "    border: 2px solid var(--fill-color);\n",
              "    border-color: transparent;\n",
              "    border-bottom-color: var(--fill-color);\n",
              "    animation:\n",
              "      spin 1s steps(1) infinite;\n",
              "  }\n",
              "\n",
              "  @keyframes spin {\n",
              "    0% {\n",
              "      border-color: transparent;\n",
              "      border-bottom-color: var(--fill-color);\n",
              "      border-left-color: var(--fill-color);\n",
              "    }\n",
              "    20% {\n",
              "      border-color: transparent;\n",
              "      border-left-color: var(--fill-color);\n",
              "      border-top-color: var(--fill-color);\n",
              "    }\n",
              "    30% {\n",
              "      border-color: transparent;\n",
              "      border-left-color: var(--fill-color);\n",
              "      border-top-color: var(--fill-color);\n",
              "      border-right-color: var(--fill-color);\n",
              "    }\n",
              "    40% {\n",
              "      border-color: transparent;\n",
              "      border-right-color: var(--fill-color);\n",
              "      border-top-color: var(--fill-color);\n",
              "    }\n",
              "    60% {\n",
              "      border-color: transparent;\n",
              "      border-right-color: var(--fill-color);\n",
              "    }\n",
              "    80% {\n",
              "      border-color: transparent;\n",
              "      border-right-color: var(--fill-color);\n",
              "      border-bottom-color: var(--fill-color);\n",
              "    }\n",
              "    90% {\n",
              "      border-color: transparent;\n",
              "      border-bottom-color: var(--fill-color);\n",
              "    }\n",
              "  }\n",
              "</style>\n",
              "\n",
              "  <script>\n",
              "    async function quickchart(key) {\n",
              "      const quickchartButtonEl =\n",
              "        document.querySelector('#' + key + ' button');\n",
              "      quickchartButtonEl.disabled = true;  // To prevent multiple clicks.\n",
              "      quickchartButtonEl.classList.add('colab-df-spinner');\n",
              "      try {\n",
              "        const charts = await google.colab.kernel.invokeFunction(\n",
              "            'suggestCharts', [key], {});\n",
              "      } catch (error) {\n",
              "        console.error('Error during call to suggestCharts:', error);\n",
              "      }\n",
              "      quickchartButtonEl.classList.remove('colab-df-spinner');\n",
              "      quickchartButtonEl.classList.add('colab-df-quickchart-complete');\n",
              "    }\n",
              "    (() => {\n",
              "      let quickchartButtonEl =\n",
              "        document.querySelector('#df-969f00a0-a949-4bea-a9b1-dc73f6a91513 button');\n",
              "      quickchartButtonEl.style.display =\n",
              "        google.colab.kernel.accessAllowed ? 'block' : 'none';\n",
              "    })();\n",
              "  </script>\n",
              "</div>\n",
              "\n",
              "    </div>\n",
              "  </div>\n"
            ],
            "application/vnd.google.colaboratory.intrinsic+json": {
              "type": "dataframe",
              "summary": "{\n  \"name\": \"data\",\n  \"rows\": 550,\n  \"fields\": [\n    {\n      \"column\": \"produk_id\",\n      \"properties\": {\n        \"dtype\": \"boolean\",\n        \"num_unique_values\": 1,\n        \"samples\": [\n          false\n        ],\n        \"semantic_type\": \"\",\n        \"description\": \"\"\n      }\n    },\n    {\n      \"column\": \"nama_produk\",\n      \"properties\": {\n        \"dtype\": \"boolean\",\n        \"num_unique_values\": 1,\n        \"samples\": [\n          false\n        ],\n        \"semantic_type\": \"\",\n        \"description\": \"\"\n      }\n    },\n    {\n      \"column\": \"kategori\",\n      \"properties\": {\n        \"dtype\": \"boolean\",\n        \"num_unique_values\": 1,\n        \"samples\": [\n          false\n        ],\n        \"semantic_type\": \"\",\n        \"description\": \"\"\n      }\n    },\n    {\n      \"column\": \"harga\",\n      \"properties\": {\n        \"dtype\": \"boolean\",\n        \"num_unique_values\": 2,\n        \"samples\": [\n          true\n        ],\n        \"semantic_type\": \"\",\n        \"description\": \"\"\n      }\n    },\n    {\n      \"column\": \"rating\",\n      \"properties\": {\n        \"dtype\": \"boolean\",\n        \"num_unique_values\": 2,\n        \"samples\": [\n          true\n        ],\n        \"semantic_type\": \"\",\n        \"description\": \"\"\n      }\n    },\n    {\n      \"column\": \"jumlah_ulasan\",\n      \"properties\": {\n        \"dtype\": \"boolean\",\n        \"num_unique_values\": 2,\n        \"samples\": [\n          true\n        ],\n        \"semantic_type\": \"\",\n        \"description\": \"\"\n      }\n    },\n    {\n      \"column\": \"negara_asal\",\n      \"properties\": {\n        \"dtype\": \"boolean\",\n        \"num_unique_values\": 1,\n        \"samples\": [\n          false\n        ],\n        \"semantic_type\": \"\",\n        \"description\": \"\"\n      }\n    }\n  ]\n}"
            }
          },
          "metadata": {},
          "execution_count": 81
        }
      ],
      "source": [
        "data.isnull()"
      ]
    },
    {
      "cell_type": "code",
      "execution_count": 82,
      "id": "b6000de5",
      "metadata": {
        "id": "b6000de5",
        "outputId": "ba4e8d2f-eee4-4de9-f899-6fcba5c85e10",
        "colab": {
          "base_uri": "https://localhost:8080/",
          "height": 358
        }
      },
      "outputs": [
        {
          "output_type": "stream",
          "name": "stderr",
          "text": [
            "/usr/local/lib/python3.11/dist-packages/numpy/core/fromnumeric.py:86: FutureWarning: The behavior of DataFrame.sum with axis=None is deprecated, in a future version this will reduce over both axes and return a scalar. To retain the old behavior, pass axis=0 (or do not pass axis)\n",
            "  return reduction(axis=axis, out=out, **passkwargs)\n"
          ]
        },
        {
          "output_type": "execute_result",
          "data": {
            "text/plain": [
              "produk_id         0\n",
              "nama_produk       0\n",
              "kategori          0\n",
              "harga            30\n",
              "rating           50\n",
              "jumlah_ulasan    20\n",
              "negara_asal       0\n",
              "dtype: int64"
            ],
            "text/html": [
              "<div>\n",
              "<style scoped>\n",
              "    .dataframe tbody tr th:only-of-type {\n",
              "        vertical-align: middle;\n",
              "    }\n",
              "\n",
              "    .dataframe tbody tr th {\n",
              "        vertical-align: top;\n",
              "    }\n",
              "\n",
              "    .dataframe thead th {\n",
              "        text-align: right;\n",
              "    }\n",
              "</style>\n",
              "<table border=\"1\" class=\"dataframe\">\n",
              "  <thead>\n",
              "    <tr style=\"text-align: right;\">\n",
              "      <th></th>\n",
              "      <th>0</th>\n",
              "    </tr>\n",
              "  </thead>\n",
              "  <tbody>\n",
              "    <tr>\n",
              "      <th>produk_id</th>\n",
              "      <td>0</td>\n",
              "    </tr>\n",
              "    <tr>\n",
              "      <th>nama_produk</th>\n",
              "      <td>0</td>\n",
              "    </tr>\n",
              "    <tr>\n",
              "      <th>kategori</th>\n",
              "      <td>0</td>\n",
              "    </tr>\n",
              "    <tr>\n",
              "      <th>harga</th>\n",
              "      <td>30</td>\n",
              "    </tr>\n",
              "    <tr>\n",
              "      <th>rating</th>\n",
              "      <td>50</td>\n",
              "    </tr>\n",
              "    <tr>\n",
              "      <th>jumlah_ulasan</th>\n",
              "      <td>20</td>\n",
              "    </tr>\n",
              "    <tr>\n",
              "      <th>negara_asal</th>\n",
              "      <td>0</td>\n",
              "    </tr>\n",
              "  </tbody>\n",
              "</table>\n",
              "</div><br><label><b>dtype:</b> int64</label>"
            ]
          },
          "metadata": {},
          "execution_count": 82
        }
      ],
      "source": [
        "np.sum(data.isnull())"
      ]
    },
    {
      "cell_type": "markdown",
      "id": "85e2f2ad",
      "metadata": {
        "id": "85e2f2ad"
      },
      "source": [
        "Berdasarkan output summarize tersebut, diperoleh bahwa kolom yang mengandung Missing Values (blanks/ N/A (Python : nan atau NaN)) adalah kolom harga sebanyak 30, kolom rating sebanyak 50, dan kolom jumlah_ulasan sebanyak 20.   "
      ]
    },
    {
      "cell_type": "code",
      "execution_count": 83,
      "id": "0dffd03f",
      "metadata": {
        "id": "0dffd03f",
        "outputId": "e45d47d6-37f5-4bd8-9dc2-88306ea8ad3d",
        "colab": {
          "base_uri": "https://localhost:8080/"
        }
      },
      "outputs": [
        {
          "output_type": "execute_result",
          "data": {
            "text/plain": [
              "100"
            ]
          },
          "metadata": {},
          "execution_count": 83
        }
      ],
      "source": [
        "#mengetahui jumlah missing value di seluruh dataset\n",
        "data.isnull().sum().sum()"
      ]
    },
    {
      "cell_type": "markdown",
      "id": "8fbe1ddb",
      "metadata": {
        "id": "8fbe1ddb"
      },
      "source": [
        "# HANDLING MISSING VALUE"
      ]
    },
    {
      "cell_type": "markdown",
      "id": "9140ac2a",
      "metadata": {
        "id": "9140ac2a"
      },
      "source": [
        "Dalam Machine Learning, missing values adalah masalah umum yang harus ditangani sebelum model dapat digunakan.\n",
        "Keberadaan missing values dapat mempengaruhi analisis data seperti: menyebabkan analisis bias, mengurangi akurasi analisis, mengurangi statistik deskriptif, menyulitkan pembuatan model prediktif, hingga mempengaruhi visualisasi data.\n",
        "Ada beberapa metode untuk menangani missing values, tergantung pada jenis data dan karakteristik distribusinya."
      ]
    },
    {
      "cell_type": "markdown",
      "id": "e7c6845e",
      "metadata": {
        "id": "e7c6845e"
      },
      "source": [
        "## 1. HARGA"
      ]
    },
    {
      "cell_type": "code",
      "execution_count": 84,
      "id": "dd3c1d85",
      "metadata": {
        "id": "dd3c1d85",
        "outputId": "a50af5e4-f824-4b3b-979d-96a71b6281ba",
        "colab": {
          "base_uri": "https://localhost:8080/"
        }
      },
      "outputs": [
        {
          "output_type": "execute_result",
          "data": {
            "text/plain": [
              "array([ 7.460e+02,  2.410e+02,  8.100e+02,  3.030e+02,  2.520e+02,\n",
              "        3.350e+02,  8.900e+02,  4.910e+02,  6.050e+02,  4.630e+02,\n",
              "        4.810e+02,  3.980e+02,  5.100e+02,  5.980e+02,  8.350e+02,\n",
              "        1.250e+02,  8.220e+02,  4.260e+02,  3.900e+02,  7.080e+02,\n",
              "        5.450e+02,        nan,  5.720e+02,  7.280e+02,  6.710e+02,\n",
              "        3.740e+02,  2.310e+02,  4.340e+02,  1.150e+03,  3.310e+02,\n",
              "        5.780e+02,  4.750e+02,  4.590e+02,  9.040e+02,  4.970e+02,\n",
              "        5.400e+02,  3.390e+02,  2.110e+02,  8.620e+02,  5.800e+02,\n",
              "        5.180e+02,  5.160e+02,  4.480e+02,  7.360e+02,  2.280e+02,\n",
              "        1.830e+02,  5.150e+02,  7.120e+02,  5.470e+02,  4.360e+02,\n",
              "        5.910e+02,  5.370e+02,  6.650e+02,  7.650e+02,  3.090e+02,\n",
              "        4.290e+02,  2.960e+02,  6.660e+02,  3.550e+02,  1.240e+02,\n",
              "        3.850e+02,  2.010e+02,  8.180e+02,  5.940e+02,  6.290e+02,\n",
              "        6.070e+02,  6.680e+02,  7.260e+02,  3.920e+02,  2.160e+02,\n",
              "        3.300e+02,  4.900e+02, -1.200e+01,  1.200e+02,  6.190e+02,\n",
              "        4.660e+02,  5.570e+02,  4.050e+02,  5.430e+02,  3.880e+02,\n",
              "        3.200e+02,  8.050e+02,  5.730e+02,  5.410e+02,  3.240e+02,\n",
              "        4.530e+02,  3.020e+02,  4.010e+02,  2.580e+02,  8.170e+02,\n",
              "        3.480e+02,  2.340e+02,  3.450e+02,  3.700e+02,  1.790e+02,\n",
              "        1.970e+02,  6.350e+02,  6.560e+02,  5.300e+02,  2.530e+02,\n",
              "        7.790e+02,  4.100e+02,  8.341e+03,  7.740e+02,  3.640e+02,\n",
              "        7.300e+02,  4.240e+02,  3.610e+02,  5.210e+02,  5.680e+02,\n",
              "        8.820e+02,  5.630e+02,  5.380e+02,  8.190e+02,  6.200e+02,\n",
              "        7.710e+02,  3.520e+02,  3.120e+02,  5.660e+02, -1.950e+02,\n",
              "        4.460e+02,  3.960e+02,  6.780e+02,  4.220e+02,  7.290e+02,\n",
              "        5.460e+02,  6.600e+02,  5.480e+02,  6.640e+02,  9.100e+02,\n",
              "        5.500e+02,  4.090e+02,  9.400e+01,  4.470e+02,  6.060e+02,\n",
              "        8.810e+02,  4.610e+02,  7.830e+02,  5.920e+02,  6.170e+02,\n",
              "        1.950e+02,  7.410e+02,  5.750e+02,  2.250e+02,  5.970e+02,\n",
              "        8.700e+01,  9.680e+02,  2.790e+02,  3.370e+02,  6.120e+02,\n",
              "        3.170e+02,  6.990e+02,  4.520e+02,  5.930e+02,  5.030e+02,\n",
              "        2.260e+02,  6.000e+02,  3.990e+02,  7.090e+02,  4.840e+02,\n",
              "        8.360e+02,  9.760e+02,  6.570e+02,  4.420e+02,  4.250e+02,\n",
              "        3.360e+02,  4.450e+02,  8.920e+02,  4.600e+02,  2.540e+02,\n",
              "        5.080e+02,  5.070e+02,  6.590e+02,  5.130e+02,  6.530e+02,\n",
              "        3.430e+02,  8.560e+02,  6.300e+02,  2.660e+02,  1.680e+02,\n",
              "        5.580e+02,  4.020e+02,  5.510e+02,  1.870e+02,  4.300e+02,\n",
              "        7.700e+01,  7.680e+02,  2.380e+02,  3.750e+02,  8.290e+02,\n",
              "        7.950e+02,  8.970e+02,  2.720e+02,  7.123e+03,  1.720e+02,\n",
              "        5.990e+02,  4.580e+02,  4.400e+01,  5.290e+02,  8.590e+02,\n",
              "        4.850e+02,  6.130e+02,  1.500e+02,  1.023e+03,  4.130e+02,\n",
              "        6.280e+02,  8.690e+02,  5.530e+02,  4.570e+02,  5.270e+02,\n",
              "        6.520e+02,  5.020e+02,  6.760e+02,  1.630e+02,  8.990e+02,\n",
              "        8.960e+02,  6.250e+02,  2.970e+02,  9.770e+02,  3.790e+02,\n",
              "        5.900e+02,  6.360e+02,  4.710e+02,  6.330e+02,  4.620e+02,\n",
              "        6.150e+02,  6.270e+02,  4.110e+02,  6.210e+02,  8.410e+02,\n",
              "        8.540e+02,  4.200e+02,  6.610e+02,  8.020e+02,  1.270e+02,\n",
              "        6.370e+02,  3.200e+01,  4.200e+01,  7.860e+02,  7.420e+02,\n",
              "        3.230e+02,  6.020e+02,  5.950e+02,  6.940e+02,  6.440e+02,\n",
              "        4.140e+02,  4.890e+02,  8.680e+02,  4.180e+02,  5.520e+02,\n",
              "        5.100e+01,  9.510e+02,  3.130e+02,  1.134e+03,  5.360e+02,\n",
              "       -1.400e+01,  7.660e+02,  6.430e+02,  8.130e+02,  2.640e+02,\n",
              "        3.630e+02,  1.640e+02,  3.780e+02,  5.420e+02,  6.730e+02,\n",
              "        7.600e+02,  4.000e+02,  5.830e+02,  2.800e+02,  6.230e+02,\n",
              "        3.730e+02,  3.160e+02,  5.490e+02,  7.100e+02,  4.500e+02,\n",
              "        4.860e+02,  4.920e+02,  5.840e+03,  2.610e+02,  5.550e+02,\n",
              "        3.560e+02,  6.810e+02,  3.650e+02,  3.680e+02,  5.890e+02,\n",
              "        9.550e+02,  1.740e+02,  7.250e+02,  3.840e+02,  3.250e+02,\n",
              "        1.770e+02,  7.690e+02,  2.130e+02,  7.930e+02,  5.600e+02,\n",
              "        7.330e+02,  7.070e+02,  2.990e+02,  9.850e+02,  8.890e+02,\n",
              "        3.870e+02, -2.130e+02,  4.280e+02,  3.860e+02,  4.550e+02,\n",
              "        3.340e+02,  6.840e+02,  5.120e+02,  6.900e+02,  7.440e+02,\n",
              "        6.500e+01,  1.014e+03,  6.620e+02,  1.230e+02,  5.280e+02,\n",
              "        6.950e+02,  6.720e+02,  5.598e+03,  1.610e+02,  3.190e+02,\n",
              "        7.730e+02,  6.910e+02,  6.490e+02,  7.010e+02,  4.800e+02,\n",
              "        4.040e+02,  7.030e+02,  7.500e+02,  5.330e+02,  3.040e+02,\n",
              "        4.960e+02,  4.870e+02,  8.400e+02,  5.170e+02,  3.410e+02,\n",
              "        8.240e+02,  2.910e+02,  5.590e+02,  6.240e+02,  5.250e+02,\n",
              "        4.990e+02, -1.500e+01,  5.620e+02,  4.150e+02,  6.420e+02,\n",
              "        2.330e+02,  4.560e+02,  4.350e+02,  4.160e+02,  7.900e+02,\n",
              "        5.740e+02,  4.760e+02,  4.540e+02,  5.860e+02,  6.080e+02,\n",
              "        5.260e+02,  6.030e+02,  5.224e+03,  2.760e+02,  1.560e+02,\n",
              "        5.560e+02,  4.430e+02,  2.900e+02,  7.600e+01,  1.430e+02,\n",
              "        8.200e+02,  3.400e+02,  4.380e+02,  6.320e+02,  7.020e+02,\n",
              "        3.260e+02,  7.560e+02,  6.670e+02,  7.050e+02,  4.230e+02,\n",
              "        5.200e+02,  3.930e+02,  1.090e+02,  4.440e+02,  5.710e+02,\n",
              "        3.820e+02,  4.690e+02, -4.200e+01,  7.590e+02,  6.800e+02,\n",
              "        9.700e+01, -5.000e+00,  7.880e+02,  1.190e+02,  5.350e+02,\n",
              "        7.770e+02, -2.900e+01,  6.450e+02,  4.650e+02,  4.950e+02])"
            ]
          },
          "metadata": {},
          "execution_count": 84
        }
      ],
      "source": [
        "#melihat isi dalam kolom harga\n",
        "data['harga'].unique()"
      ]
    },
    {
      "cell_type": "code",
      "execution_count": 40,
      "id": "434f667c",
      "metadata": {
        "id": "434f667c",
        "outputId": "3f40d743-ebb6-4ea5-bfbb-0f3d52a065d5",
        "colab": {
          "base_uri": "https://localhost:8080/"
        }
      },
      "outputs": [
        {
          "output_type": "execute_result",
          "data": {
            "text/plain": [
              "30"
            ]
          },
          "metadata": {},
          "execution_count": 40
        }
      ],
      "source": [
        "#jumlah missing value\n",
        "np.sum(data['harga'].isnull())"
      ]
    },
    {
      "cell_type": "code",
      "source": [
        "from scipy import stats\n",
        "import seaborn as sns\n",
        "df=pd.read_csv('produk_elektronik.csv')\n",
        "kolom='harga'\n",
        "plt.figure(figsize=(10, 6))\n",
        "sns.histplot(df[kolom], kde=True, stat='density')\n",
        "plt.title('Histogram dan kurva normal')\n",
        "plt.xlabel(kolom)\n",
        "plt.ylabel('Densitas')"
      ],
      "metadata": {
        "id": "FMo70yBzg8a-",
        "outputId": "f18e0bc4-4908-4d65-b00f-b0a1c9944930",
        "colab": {
          "base_uri": "https://localhost:8080/",
          "height": 580
        }
      },
      "id": "FMo70yBzg8a-",
      "execution_count": 85,
      "outputs": [
        {
          "output_type": "execute_result",
          "data": {
            "text/plain": [
              "Text(0, 0.5, 'Densitas')"
            ]
          },
          "metadata": {},
          "execution_count": 85
        },
        {
          "output_type": "display_data",
          "data": {
            "text/plain": [
              "<Figure size 1000x600 with 1 Axes>"
            ],
            "image/png": "[encoded data removed]"
          },
          "metadata": {}
        }
      ]
    },
    {
      "cell_type": "markdown",
      "id": "a741bf3c",
      "metadata": {
        "id": "a741bf3c"
      },
      "source": [
        "Berdasarkan output isi kolom harga, dapat dilihat bahwa kolom tersebut mengandung detail Missing Values : 'nan'.\n",
        "Pada kasus ini, metode yang paling tepat digunakan untuk menangani masalah tersebut yaitu imputasi melalui penggantian masing-masing Missing Values tersebut dengan rata-rata dari harga keseluruhan data.\n",
        "\n",
        "Metode imputasi tersebut sangat tepat dibanding penghapusan data dikarenakan data cukup penting untuk keakuratan analisis, disamping itu data yang kosong juga hanya sebagian kecil.\n",
        "\n",
        "Pemilihan rata-rata untuk mengganti data yang kosong lebih disarankan karena berdasarkan kurva kenormalan di atas tidak terjadi kemiringan yang berarti."
      ]
    },
    {
      "cell_type": "code",
      "execution_count": 86,
      "id": "32c5b8a4",
      "metadata": {
        "id": "32c5b8a4"
      },
      "outputs": [],
      "source": [
        "#mengisi missing value\n",
        "data['harga']=data['harga'].fillna(data['harga'].mean())"
      ]
    },
    {
      "cell_type": "code",
      "execution_count": 87,
      "id": "ea75bd04",
      "metadata": {
        "id": "ea75bd04",
        "outputId": "3908887e-0b11-41b0-bfb8-80a8f64ed07b",
        "colab": {
          "base_uri": "https://localhost:8080/"
        }
      },
      "outputs": [
        {
          "output_type": "execute_result",
          "data": {
            "text/plain": [
              "0"
            ]
          },
          "metadata": {},
          "execution_count": 87
        }
      ],
      "source": [
        "#jumlah missing value\n",
        "np.sum(data['harga'].isnull())"
      ]
    },
    {
      "cell_type": "markdown",
      "id": "c4ce6da2",
      "metadata": {
        "id": "c4ce6da2"
      },
      "source": [
        "## 2. RATING"
      ]
    },
    {
      "cell_type": "code",
      "execution_count": 88,
      "id": "194aa56f",
      "metadata": {
        "id": "194aa56f",
        "outputId": "acd2d693-25d0-4fae-bd10-56c568eae327",
        "colab": {
          "base_uri": "https://localhost:8080/"
        }
      },
      "outputs": [
        {
          "output_type": "execute_result",
          "data": {
            "text/plain": [
              "array([4.2, 3.5, 3.8, 3.2, 3.7, 4. , 4.5, 3. , 3.9, 3.6, 4.7, 4.4, nan,\n",
              "       3.1, 4.9, 4.6, 5. , 4.8, 4.3, 3.4, 4.1, 3.3])"
            ]
          },
          "metadata": {},
          "execution_count": 88
        }
      ],
      "source": [
        "#melihat isi dalam kolom\n",
        "data['rating'].unique()"
      ]
    },
    {
      "cell_type": "code",
      "execution_count": 89,
      "id": "37ced13e",
      "metadata": {
        "id": "37ced13e",
        "outputId": "5e84f699-6a3d-4be0-bc88-2c94c9c96456",
        "colab": {
          "base_uri": "https://localhost:8080/"
        }
      },
      "outputs": [
        {
          "output_type": "execute_result",
          "data": {
            "text/plain": [
              "50"
            ]
          },
          "metadata": {},
          "execution_count": 89
        }
      ],
      "source": [
        "#jumlah missing value\n",
        "np.sum(data['rating'].isnull())"
      ]
    },
    {
      "cell_type": "code",
      "source": [
        "kolom_rating='rating'\n",
        "plt.figure(figsize=(6, 6))\n",
        "sns.histplot(df[kolom_rating], kde=True, stat='density')\n",
        "plt.title('Histogram dan kurva normal')\n",
        "plt.xlabel(kolom_rating)\n",
        "plt.ylabel('Densitas')"
      ],
      "metadata": {
        "id": "YGKc5mKZpSUF",
        "outputId": "6a25907d-058d-4300-fa54-2e8f6e4c086c",
        "colab": {
          "base_uri": "https://localhost:8080/",
          "height": 581
        }
      },
      "id": "YGKc5mKZpSUF",
      "execution_count": 90,
      "outputs": [
        {
          "output_type": "execute_result",
          "data": {
            "text/plain": [
              "Text(0, 0.5, 'Densitas')"
            ]
          },
          "metadata": {},
          "execution_count": 90
        },
        {
          "output_type": "display_data",
          "data": {
            "text/plain": [
              "<Figure size 600x600 with 1 Axes>"
            ],
            "image/png": "[encoded data removed]"
          },
          "metadata": {}
        }
      ]
    },
    {
      "cell_type": "markdown",
      "source": [
        "Berdasarkan output isi kolom rating, dapat dilihat bahwa kolom tersebut mengandung detail Missing Values : 'nan'. Pada kasus ini, metode yang paling tepat digunakan untuk menangani masalah tersebut yaitu imputasi melalui penggantian masing-masing Missing Values tersebut dengan modus dari keseluruhan data.\n",
        "\n",
        "Metode imputasi tersebut sangat tepat dibanding penghapusan data dikarenakan data cukup penting untuk keakuratan analisis, disamping itu data yang kosong juga hanya sebagian kecil.\n",
        "\n",
        "Pemilihan modus untuk mengganti data yang kosong lebih disarankan karena berdasarkan histogram di atas banyak data pada masing-masing rentang hampir sama."
      ],
      "metadata": {
        "id": "UJ4qDRuQsP_E"
      },
      "id": "UJ4qDRuQsP_E"
    },
    {
      "cell_type": "code",
      "source": [
        "from scipy.stats import mode\n",
        "data['rating'].mode()"
      ],
      "metadata": {
        "id": "wYwceaX5tOq8",
        "outputId": "fec5d4ff-6534-4ae5-b6c6-62627c6eb847",
        "colab": {
          "base_uri": "https://localhost:8080/",
          "height": 115
        }
      },
      "id": "wYwceaX5tOq8",
      "execution_count": 91,
      "outputs": [
        {
          "output_type": "execute_result",
          "data": {
            "text/plain": [
              "0    4.2\n",
              "Name: rating, dtype: float64"
            ],
            "text/html": [
              "<div>\n",
              "<style scoped>\n",
              "    .dataframe tbody tr th:only-of-type {\n",
              "        vertical-align: middle;\n",
              "    }\n",
              "\n",
              "    .dataframe tbody tr th {\n",
              "        vertical-align: top;\n",
              "    }\n",
              "\n",
              "    .dataframe thead th {\n",
              "        text-align: right;\n",
              "    }\n",
              "</style>\n",
              "<table border=\"1\" class=\"dataframe\">\n",
              "  <thead>\n",
              "    <tr style=\"text-align: right;\">\n",
              "      <th></th>\n",
              "      <th>rating</th>\n",
              "    </tr>\n",
              "  </thead>\n",
              "  <tbody>\n",
              "    <tr>\n",
              "      <th>0</th>\n",
              "      <td>4.2</td>\n",
              "    </tr>\n",
              "  </tbody>\n",
              "</table>\n",
              "</div><br><label><b>dtype:</b> float64</label>"
            ]
          },
          "metadata": {},
          "execution_count": 91
        }
      ]
    },
    {
      "cell_type": "code",
      "source": [
        "data['rating'] = data['rating'].fillna(data['rating'].mode()[0])"
      ],
      "metadata": {
        "id": "LmOVu4e5wBd3"
      },
      "id": "LmOVu4e5wBd3",
      "execution_count": 92,
      "outputs": []
    },
    {
      "cell_type": "code",
      "source": [
        "#jumlah missing value\n",
        "np.sum(data['rating'].isnull())"
      ],
      "metadata": {
        "id": "GETLwM11wtBD",
        "outputId": "177bc8fa-1fb0-47bf-c56b-3503f85b59da",
        "colab": {
          "base_uri": "https://localhost:8080/"
        }
      },
      "id": "GETLwM11wtBD",
      "execution_count": 93,
      "outputs": [
        {
          "output_type": "execute_result",
          "data": {
            "text/plain": [
              "0"
            ]
          },
          "metadata": {},
          "execution_count": 93
        }
      ]
    },
    {
      "cell_type": "markdown",
      "id": "775927c0",
      "metadata": {
        "id": "775927c0"
      },
      "source": [
        "## 3. JUMLAH ULASAN"
      ]
    },
    {
      "cell_type": "code",
      "execution_count": 94,
      "id": "7a669a4e",
      "metadata": {
        "id": "7a669a4e",
        "outputId": "0bb1d36f-9dc8-4b5c-94f2-05748ab51bdd",
        "colab": {
          "base_uri": "https://localhost:8080/"
        }
      },
      "outputs": [
        {
          "output_type": "execute_result",
          "data": {
            "text/plain": [
              "array([273., 239., 209.,  59.,  76., 309., 390.,  67., 268.,  nan, 335.,\n",
              "       139., 224., 181., 267., 111., 218., 300., 363., 480., 295., 125.,\n",
              "       159., 451.,  45., 462., 342., 486., 296., 312., 320., 217., 115.,\n",
              "       455., 167., 130.,  64., 409.,  21., 154., 405., 145., 477.,  12.,\n",
              "       153.,  39., 246., 288., 357., 113., 127.,  14., 257., 373., 330.,\n",
              "       158.,  93., 463., 475., 465., 240., 297., 170., 281., 469.,  47.,\n",
              "       235., 151., 301., 490., 160., 123.,  75., 370., 350., 484., 258.,\n",
              "       466., 458., 340., 332., 189., 199., 416., 163., 205., 271., 428.,\n",
              "       415., 436., 152., 351., 110., 253., 499., 248.,  58.,  51., 175.,\n",
              "        91., 438., 225., 471., 143., 345.,  16., 445.,  23.,  82., 408.,\n",
              "       414., 172., 356., 215., 285., 265., 275.,  34., 459., 290., 262.,\n",
              "       319., 298., 173., 104., 119., 247., 396., 492., 434., 399., 150.,\n",
              "       126., 491., 401., 461.,  88.,  77., 182., 453., 137., 105., 101.,\n",
              "        40., 343.,  29., 155., 325., 456., 169., 358.,  52., 263.,  69.,\n",
              "       476., 427., 354., 391., 276., 187., 424.,  65., 472.,  92., 402.,\n",
              "       108., 338., 165., 380., 272., 261., 106., 269., 112.,  49., 282.,\n",
              "       368., 389., 317., 230., 429., 133., 431.,  72., 494., 200.,  71.,\n",
              "       164., 479., 464., 238.,  95., 142., 192., 395., 228., 255., 147.,\n",
              "       323., 385., 432., 398.,  74.,  22., 222., 483., 190., 347., 474.,\n",
              "       197., 404., 291.,  43.,  61., 121., 241., 236., 242., 422.,  30.,\n",
              "       406., 122., 114., 201.,  26., 129., 138.,  57.,  38.,  19., 286.,\n",
              "       293., 212., 256., 299., 452., 223., 442., 410., 352., 353., 425.,\n",
              "       437.,  96.,  17., 394., 118., 444., 417., 161., 157., 375., 237.,\n",
              "       148., 220., 400.,  37.,  60., 270., 359., 361., 329., 120., 489.,\n",
              "       377., 229., 346., 232., 369., 418., 443., 460.,  87., 178., 226.,\n",
              "       387., 128., 264., 379., 149., 497., 383., 278., 360.,  20., 280.,\n",
              "       433., 411., 162., 324., 482., 287., 423., 183., 131.,  41., 231.,\n",
              "        48., 277., 440.,  27., 135., 311., 144., 245., 233., 244.,  31.,\n",
              "       294., 292.,  97.,  53., 470., 180., 430., 198., 362., 193.,  28.,\n",
              "        32., 304., 117., 376., 371., 195.,  81., 397., 393.])"
            ]
          },
          "metadata": {},
          "execution_count": 94
        }
      ],
      "source": [
        "#melihat isi dalam kolom\n",
        "data['jumlah_ulasan'].unique()"
      ]
    },
    {
      "cell_type": "code",
      "execution_count": 95,
      "id": "b2a76ddb",
      "metadata": {
        "id": "b2a76ddb",
        "outputId": "f8ad7ae8-021b-4e6e-ea9f-796fa3e05cf3",
        "colab": {
          "base_uri": "https://localhost:8080/"
        }
      },
      "outputs": [
        {
          "output_type": "execute_result",
          "data": {
            "text/plain": [
              "20"
            ]
          },
          "metadata": {},
          "execution_count": 95
        }
      ],
      "source": [
        "#jumlah missing value\n",
        "np.sum(data['jumlah_ulasan'].isnull())"
      ]
    },
    {
      "cell_type": "code",
      "source": [
        "kolom_ulasan='jumlah_ulasan'\n",
        "plt.figure(figsize=(6, 6))\n",
        "stats.probplot(df[kolom_ulasan], dist='norm', plot=plt)\n",
        "plt.title('Q-Q Plot')\n",
        "plt.xlabel('Nilai Teoritis')\n",
        "plt.ylabel('Nilai Aktual')\n",
        "plt.show()"
      ],
      "metadata": {
        "id": "6K5Nw8lDyOpx",
        "outputId": "617a609d-2649-4904-cea2-9a6b59c62f4c",
        "colab": {
          "base_uri": "https://localhost:8080/",
          "height": 564
        }
      },
      "id": "6K5Nw8lDyOpx",
      "execution_count": 96,
      "outputs": [
        {
          "output_type": "display_data",
          "data": {
            "text/plain": [
              "<Figure size 600x600 with 1 Axes>"
            ],
            "image/png": "[encoded data removed]"
          },
          "metadata": {}
        }
      ]
    },
    {
      "cell_type": "markdown",
      "id": "4a9b7006",
      "metadata": {
        "id": "4a9b7006"
      },
      "source": [
        "Berdasarkan output isi kolom jumlah_ulasan, dapat dilihat bahwa kolom tersebut mengandung detail Missing Values : 'nan'. Pada kasus ini, metode yang paling tepat digunakan untuk menangani masalah tersebut yaitu imputasi melalui penggantian masing-masing Missing Values tersebut dengan median dari keseluruhan data.\n",
        "\n",
        "Metode imputasi tersebut sangat tepat dibanding penghapusan data dikarenakan data cukup penting untuk keakuratan analisis, disamping itu data yang kosong juga hanya sebagian kecil.\n",
        "\n",
        "Pemilihan median untuk mengganti data yang kosong lebih disarankan karena berdasarkan Q-Q Plot di atas terdapat nilai ekstrim sehingga lebih aman jika menggunakan median."
      ]
    },
    {
      "cell_type": "code",
      "execution_count": 97,
      "id": "a2d612f2",
      "metadata": {
        "id": "a2d612f2"
      },
      "outputs": [],
      "source": [
        "#mengisi missing value\n",
        "data['jumlah_ulasan']=data['jumlah_ulasan'].fillna(data['jumlah_ulasan'].median())"
      ]
    },
    {
      "cell_type": "code",
      "execution_count": 98,
      "id": "400b6c4d",
      "metadata": {
        "id": "400b6c4d",
        "outputId": "6b453b79-4b8f-4c19-dbc6-837ec660a8e3",
        "colab": {
          "base_uri": "https://localhost:8080/"
        }
      },
      "outputs": [
        {
          "output_type": "execute_result",
          "data": {
            "text/plain": [
              "0"
            ]
          },
          "metadata": {},
          "execution_count": 98
        }
      ],
      "source": [
        "#jumlah missing value\n",
        "np.sum(data['jumlah_ulasan'].isnull())"
      ]
    },
    {
      "cell_type": "code",
      "execution_count": 99,
      "id": "664b5253",
      "metadata": {
        "id": "664b5253",
        "outputId": "805e3f59-0502-4ff2-dfd8-2331225cbe18",
        "colab": {
          "base_uri": "https://localhost:8080/",
          "height": 358
        }
      },
      "outputs": [
        {
          "output_type": "stream",
          "name": "stderr",
          "text": [
            "/usr/local/lib/python3.11/dist-packages/numpy/core/fromnumeric.py:86: FutureWarning: The behavior of DataFrame.sum with axis=None is deprecated, in a future version this will reduce over both axes and return a scalar. To retain the old behavior, pass axis=0 (or do not pass axis)\n",
            "  return reduction(axis=axis, out=out, **passkwargs)\n"
          ]
        },
        {
          "output_type": "execute_result",
          "data": {
            "text/plain": [
              "produk_id        0\n",
              "nama_produk      0\n",
              "kategori         0\n",
              "harga            0\n",
              "rating           0\n",
              "jumlah_ulasan    0\n",
              "negara_asal      0\n",
              "dtype: int64"
            ],
            "text/html": [
              "<div>\n",
              "<style scoped>\n",
              "    .dataframe tbody tr th:only-of-type {\n",
              "        vertical-align: middle;\n",
              "    }\n",
              "\n",
              "    .dataframe tbody tr th {\n",
              "        vertical-align: top;\n",
              "    }\n",
              "\n",
              "    .dataframe thead th {\n",
              "        text-align: right;\n",
              "    }\n",
              "</style>\n",
              "<table border=\"1\" class=\"dataframe\">\n",
              "  <thead>\n",
              "    <tr style=\"text-align: right;\">\n",
              "      <th></th>\n",
              "      <th>0</th>\n",
              "    </tr>\n",
              "  </thead>\n",
              "  <tbody>\n",
              "    <tr>\n",
              "      <th>produk_id</th>\n",
              "      <td>0</td>\n",
              "    </tr>\n",
              "    <tr>\n",
              "      <th>nama_produk</th>\n",
              "      <td>0</td>\n",
              "    </tr>\n",
              "    <tr>\n",
              "      <th>kategori</th>\n",
              "      <td>0</td>\n",
              "    </tr>\n",
              "    <tr>\n",
              "      <th>harga</th>\n",
              "      <td>0</td>\n",
              "    </tr>\n",
              "    <tr>\n",
              "      <th>rating</th>\n",
              "      <td>0</td>\n",
              "    </tr>\n",
              "    <tr>\n",
              "      <th>jumlah_ulasan</th>\n",
              "      <td>0</td>\n",
              "    </tr>\n",
              "    <tr>\n",
              "      <th>negara_asal</th>\n",
              "      <td>0</td>\n",
              "    </tr>\n",
              "  </tbody>\n",
              "</table>\n",
              "</div><br><label><b>dtype:</b> int64</label>"
            ]
          },
          "metadata": {},
          "execution_count": 99
        }
      ],
      "source": [
        "np.sum(data.isnull())"
      ]
    },
    {
      "cell_type": "code",
      "execution_count": 100,
      "id": "9ae44fd4",
      "metadata": {
        "id": "9ae44fd4",
        "outputId": "56ff46b6-89de-4120-f87e-6592a947c5df",
        "colab": {
          "base_uri": "https://localhost:8080/"
        }
      },
      "outputs": [
        {
          "output_type": "stream",
          "name": "stdout",
          "text": [
            "<class 'pandas.core.frame.DataFrame'>\n",
            "RangeIndex: 550 entries, 0 to 549\n",
            "Data columns (total 7 columns):\n",
            " #   Column         Non-Null Count  Dtype  \n",
            "---  ------         --------------  -----  \n",
            " 0   produk_id      550 non-null    int64  \n",
            " 1   nama_produk    550 non-null    object \n",
            " 2   kategori       550 non-null    object \n",
            " 3   harga          550 non-null    float64\n",
            " 4   rating         550 non-null    float64\n",
            " 5   jumlah_ulasan  550 non-null    float64\n",
            " 6   negara_asal    550 non-null    object \n",
            "dtypes: float64(3), int64(1), object(3)\n",
            "memory usage: 30.2+ KB\n"
          ]
        }
      ],
      "source": [
        "data.info()"
      ]
    },
    {
      "cell_type": "markdown",
      "id": "786e969b",
      "metadata": {
        "id": "786e969b"
      },
      "source": [
        "# CEK DAN PENANGANAN OUTLIER"
      ]
    },
    {
      "cell_type": "markdown",
      "id": "efdbe504",
      "metadata": {
        "id": "efdbe504"
      },
      "source": [
        "**Cek Outlier**\n",
        "Outlier dapat dideteksi menggunakan beberapa metode:\n",
        "\n",
        "1. Boxplot → Visualisasi distribusi dan outlier\n",
        "2. Interquartile Range (IQR) → Mengidentifikasi outlier berdasarkan distribusi kuartil"
      ]
    },
    {
      "cell_type": "markdown",
      "id": "b46f01c7",
      "metadata": {
        "id": "b46f01c7"
      },
      "source": [
        "**1. Boxplot**"
      ]
    },
    {
      "cell_type": "code",
      "execution_count": 101,
      "id": "c47d96f5",
      "metadata": {
        "id": "c47d96f5",
        "outputId": "4d362ac2-c7f6-44a3-ab1e-d77b31107a5c",
        "colab": {
          "base_uri": "https://localhost:8080/",
          "height": 239
        }
      },
      "outputs": [
        {
          "output_type": "display_data",
          "data": {
            "text/plain": [
              "<Figure size 1500x800 with 3 Axes>"
            ],
            "image/png": "[encoded data removed]"
          },
          "metadata": {}
        }
      ],
      "source": [
        "import matplotlib.pyplot as plt\n",
        "import seaborn as sns\n",
        "\n",
        "# Kolom numerik yang ingin dicek outliernya\n",
        "num_cols = ['harga', 'rating', 'jumlah_ulasan']\n",
        "\n",
        "# Visualisasi Boxplot\n",
        "plt.figure(figsize=(15, 8))\n",
        "for i, col in enumerate(num_cols, 1):\n",
        "    plt.subplot(3, 4, i)\n",
        "    sns.boxplot(y=data[col])\n",
        "    plt.title(col)\n",
        "plt.tight_layout()\n",
        "plt.show()\n"
      ]
    },
    {
      "cell_type": "markdown",
      "id": "1fd960bc",
      "metadata": {
        "id": "1fd960bc"
      },
      "source": [
        "**2. IQR**"
      ]
    },
    {
      "cell_type": "code",
      "execution_count": 102,
      "id": "21ef1fc5",
      "metadata": {
        "id": "21ef1fc5",
        "outputId": "90b9c610-3031-4f42-d272-f37f7068131f",
        "colab": {
          "base_uri": "https://localhost:8080/"
        }
      },
      "outputs": [
        {
          "output_type": "stream",
          "name": "stdout",
          "text": [
            "harga: 14 outliers\n",
            "rating: 0 outliers\n",
            "jumlah_ulasan: 0 outliers\n"
          ]
        }
      ],
      "source": [
        "def detect_outliers_iqr(data, column):\n",
        "    Q1 = data[column].quantile(0.25)  # Kuartil 1\n",
        "    Q3 = data[column].quantile(0.75)  # Kuartil 3\n",
        "    IQR = Q3 - Q1  # Rentang interkuartil\n",
        "    lower_bound = Q1 - 1.5 * IQR\n",
        "    upper_bound = Q3 + 1.5 * IQR\n",
        "    return data[(data[column] < lower_bound) | (data[column] > upper_bound)]\n",
        "\n",
        "# Cek jumlah outlier untuk setiap kolom numerik\n",
        "for col in num_cols:\n",
        "    outliers = detect_outliers_iqr(data, col)\n",
        "    print(f\"{col}: {len(outliers)} outliers\")\n"
      ]
    },
    {
      "cell_type": "markdown",
      "source": [
        "Keberadaan outlier dapat memiliki dampak yang signifikan terhadap analisis data. Keberadaan outlier dapat mengubah nilai rata-rata, median, mengubah distribusi data, mengurangi akurasi model, mengubah hasil uji statistik, dan menghambat proses analisis. Sehingga perlu dilakukan penanganan terhadap outlier pada suatu data."
      ],
      "metadata": {
        "id": "IAEgvTx_3KH8"
      },
      "id": "IAEgvTx_3KH8"
    },
    {
      "cell_type": "markdown",
      "id": "a24c3990",
      "metadata": {
        "id": "a24c3990"
      },
      "source": [
        "**Penanganan Outlier**\n",
        "\n",
        "Metode yang paling tepat untuk menangani kasus di atas adalah Winsorizing yaitu Mengganti Outlier dengan Batas IQR. Hal ini dikarenakan keberadaan data sangat penting dan tidak boleh dihapus. Selain itu nilai dari outlier yang ada juga cukup signifikan. Dengan demikian Winsorizing adalah metode yang tepat."
      ]
    },
    {
      "cell_type": "markdown",
      "id": "dd2ec7cc",
      "metadata": {
        "id": "dd2ec7cc"
      },
      "source": [
        "📌 **A. Winsorizing (Mengganti Outlier dengan Batas IQR)**"
      ]
    },
    {
      "cell_type": "code",
      "execution_count": 103,
      "id": "0bf52939",
      "metadata": {
        "id": "0bf52939"
      },
      "outputs": [],
      "source": [
        "def winsorize_iqr(data, column):\n",
        "    Q1 = data[column].quantile(0.25)\n",
        "    Q3 = data[column].quantile(0.75)\n",
        "    IQR = Q3 - Q1\n",
        "    lower_bound = Q1 - 1.5 * IQR\n",
        "    upper_bound = Q3 + 1.5 * IQR\n",
        "    data[column] = np.where(data[column] < lower_bound, lower_bound, data[column])\n",
        "    data[column] = np.where(data[column] > upper_bound, upper_bound, data[column])\n",
        "\n",
        "# Terapkan Winsorizing\n",
        "for col in num_cols:\n",
        "    winsorize_iqr(data, col)"
      ]
    },
    {
      "cell_type": "code",
      "execution_count": 105,
      "id": "524c29ca",
      "metadata": {
        "id": "524c29ca",
        "outputId": "a15bcac4-9888-48f1-a200-b113bd9ab261",
        "colab": {
          "base_uri": "https://localhost:8080/",
          "height": 239
        }
      },
      "outputs": [
        {
          "output_type": "display_data",
          "data": {
            "text/plain": [
              "<Figure size 1500x800 with 3 Axes>"
            ],
            "image/png": "[encoded data removed]"
          },
          "metadata": {}
        }
      ],
      "source": [
        "#cek boxplot lagi\n",
        "\n",
        "num_cols = ['harga', 'rating', 'jumlah_ulasan']\n",
        "\n",
        "# Visualisasi Boxplot\n",
        "plt.figure(figsize=(15, 8))\n",
        "for i, col in enumerate(num_cols, 1):\n",
        "    plt.subplot(3, 4, i)\n",
        "    sns.boxplot(y=data[col])\n",
        "    plt.title(col)\n",
        "plt.tight_layout()\n",
        "plt.show()"
      ]
    },
    {
      "cell_type": "markdown",
      "id": "87262db2",
      "metadata": {
        "id": "87262db2"
      },
      "source": [
        "# ENCODING DATA KATEGORIK"
      ]
    },
    {
      "cell_type": "markdown",
      "id": "ceeb5509",
      "metadata": {
        "id": "ceeb5509"
      },
      "source": [
        "Encoding adalah proses mengubah data kategorik menjadi bentuk numerik agar dapat digunakan dalam algoritma Machine Learning. Model Machine Learning umumnya hanya dapat bekerja dengan angka, sehingga data kategorik harus dikonversi terlebih dahulu sebelum digunakan dalam pemodelan.\n",
        "\n",
        "Pada dataset ini, kolom yang memerlukan encoding yaitu kolom kategori dan kolom negara_asal.\n",
        "\n"
      ]
    },
    {
      "cell_type": "markdown",
      "id": "7a3b8b5d",
      "metadata": {
        "id": "7a3b8b5d"
      },
      "source": [
        "🔹**Metode Encoding dalam Machine Learning**\n",
        "Ada beberapa metode encoding yang umum digunakan, tergantung pada jenis dan karakteristik data kategorik:\n",
        "\n",
        "1. One-Hot Encoding (OHE): Mengubah kategori menjadi beberapa kolom biner (0/1). Digunakan jika jumlah kategori tidak terlalu banyak (menghindari dimensionalitas tinggi) hal ini akan menambah dimensi kolom data.\n",
        "2. Ordinal Encoding\t: Mengubah kategori menjadi angka berurutan (0,1,2,..). Digunakan jika kategori memiliki urutan yang jelas (misalnya pendidikan: SD < SMP < SMA)\n",
        "3. Target Encoding\t: Menggunakan rata-rata target (misalnya rata-rata skor IMDB berdasarkan negara) untuk mengganti kategori. Digunakan jika data memiliki hubungan statistik yang kuat dengan target.\n"
      ]
    },
    {
      "cell_type": "code",
      "execution_count": 106,
      "id": "d7688acf",
      "metadata": {
        "scrolled": true,
        "id": "d7688acf",
        "outputId": "25c12b65-2603-4fd6-f2da-903ba30d0ad5",
        "colab": {
          "base_uri": "https://localhost:8080/"
        }
      },
      "outputs": [
        {
          "output_type": "execute_result",
          "data": {
            "text/plain": [
              "array(['Smartwatch', 'Headphone', 'Tablet', 'Laptop', 'Camera',\n",
              "       'Smartphone'], dtype=object)"
            ]
          },
          "metadata": {},
          "execution_count": 106
        }
      ],
      "source": [
        "#melihat isi dalam kolom\n",
        "data['kategori'].unique()"
      ]
    },
    {
      "cell_type": "markdown",
      "source": [
        "Metode yang sesuai untuk kasus di atas adalah Target Encoding dengan menggunakan tipe elektronik untuk mengganti kategori. Hal ini sesuai karena jumlah kategori cukup banyak dan data memiliki hubungan dengan target"
      ],
      "metadata": {
        "id": "FUW6E2oqFTDA"
      },
      "id": "FUW6E2oqFTDA"
    },
    {
      "cell_type": "code",
      "source": [
        "# Buat dictionary untuk mapping kategori ke tipe\n",
        "kategori_to_tipe = {\n",
        "    'Smartwatch': 'Portable', 'Headphone': 'Portable', 'Tablet': 'Komputer', 'Laptop': 'Komputer',\n",
        "    'Camera': 'Fotografi', 'Smartphone': 'Portable',\n",
        "}\n",
        "\n",
        "# Ubah negara menjadi region\n",
        "data['kategori_tipe'] = data['kategori'].map(kategori_to_tipe).fillna('Others')\n",
        "\n",
        "# One-Hot Encoding pada region\n",
        "data = pd.get_dummies(data, columns=['kategori_tipe'], prefix='tipe')"
      ],
      "metadata": {
        "id": "Gbg0_fT-ZKHt"
      },
      "id": "Gbg0_fT-ZKHt",
      "execution_count": 121,
      "outputs": []
    },
    {
      "cell_type": "code",
      "execution_count": 122,
      "id": "a56fa0b7",
      "metadata": {
        "id": "a56fa0b7",
        "outputId": "ca3ce46a-3d40-45a6-f09c-f7700ccaa8a8",
        "colab": {
          "base_uri": "https://localhost:8080/"
        }
      },
      "outputs": [
        {
          "output_type": "execute_result",
          "data": {
            "text/plain": [
              "array(['Japan', 'Canada', 'South Korea', 'France', 'USA', 'Germany',\n",
              "       'China', 'India', 'UK'], dtype=object)"
            ]
          },
          "metadata": {},
          "execution_count": 122
        }
      ],
      "source": [
        "#melihat isi dalam kolom\n",
        "data['negara_asal'].unique()"
      ]
    },
    {
      "cell_type": "markdown",
      "source": [
        "Metode yang sesuai untuk kasus di atas adalah Target Encoding dengan menggunakan regional untuk mengganti kategori. Hal ini sesuai karena jumlah kategori cukup banyak dan data memiliki hubungan dengan target"
      ],
      "metadata": {
        "id": "g6XyOmNJFrJO"
      },
      "id": "g6XyOmNJFrJO"
    },
    {
      "cell_type": "code",
      "source": [
        "# Buat dictionary untuk mapping negara ke region\n",
        "negara_asal_to_region = {\n",
        "    'Japan': 'Asia', 'Canada': 'America', 'South Korea': 'Asia', 'France': 'Europe', 'USA': 'America', 'Germany': 'Europe', 'China': 'Asia',\n",
        "    'India': 'Asia', 'UK': 'Europe',\n",
        "}\n",
        "\n",
        "# Ubah negara menjadi region\n",
        "data['negara_asal_region'] = data['negara_asal'].map(negara_asal_to_region).fillna('Others')\n",
        "\n",
        "# One-Hot Encoding pada region\n",
        "data = pd.get_dummies(data, columns=['negara_asal_region'], prefix='region')"
      ],
      "metadata": {
        "id": "9M4CuFw6Ej66"
      },
      "id": "9M4CuFw6Ej66",
      "execution_count": 123,
      "outputs": []
    },
    {
      "cell_type": "code",
      "execution_count": 125,
      "id": "8f9e0dad",
      "metadata": {
        "id": "8f9e0dad",
        "outputId": "4618a179-259f-40ec-f9f5-e9e3fd4b012a",
        "colab": {
          "base_uri": "https://localhost:8080/"
        }
      },
      "outputs": [
        {
          "output_type": "stream",
          "name": "stdout",
          "text": [
            "<class 'pandas.core.frame.DataFrame'>\n",
            "RangeIndex: 550 entries, 0 to 549\n",
            "Data columns (total 13 columns):\n",
            " #   Column          Non-Null Count  Dtype  \n",
            "---  ------          --------------  -----  \n",
            " 0   produk_id       550 non-null    int64  \n",
            " 1   nama_produk     550 non-null    object \n",
            " 2   kategori        550 non-null    object \n",
            " 3   harga           550 non-null    float64\n",
            " 4   rating          550 non-null    float64\n",
            " 5   jumlah_ulasan   550 non-null    float64\n",
            " 6   negara_asal     550 non-null    object \n",
            " 7   tipe_Fotografi  550 non-null    bool   \n",
            " 8   tipe_Komputer   550 non-null    bool   \n",
            " 9   tipe_Portable   550 non-null    bool   \n",
            " 10  region_America  550 non-null    bool   \n",
            " 11  region_Asia     550 non-null    bool   \n",
            " 12  region_Europe   550 non-null    bool   \n",
            "dtypes: bool(6), float64(3), int64(1), object(3)\n",
            "memory usage: 33.4+ KB\n"
          ]
        }
      ],
      "source": [
        "data.info()"
      ]
    }
  ],
  "metadata": {
    "kernelspec": {
      "display_name": "Python 3 (ipykernel)",
      "language": "python",
      "name": "python3"
    },
    "language_info": {
      "codemirror_mode": {
        "name": "ipython",
        "version": 3
      },
      "file_extension": ".py",
      "mimetype": "text/x-python",
      "name": "python",
      "nbconvert_exporter": "python",
      "pygments_lexer": "ipython3",
      "version": "3.11.4"
    },
    "colab": {
      "provenance": []
    }
  },
  "nbformat": 4,
  "nbformat_minor": 5
}